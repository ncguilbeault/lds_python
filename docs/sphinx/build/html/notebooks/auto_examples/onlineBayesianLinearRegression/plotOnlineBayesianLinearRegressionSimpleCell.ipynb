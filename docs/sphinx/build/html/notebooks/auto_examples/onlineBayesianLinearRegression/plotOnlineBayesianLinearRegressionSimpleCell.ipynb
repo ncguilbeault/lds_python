{
  "cells": [
    {
      "cell_type": "code",
      "execution_count": null,
      "metadata": {
        "collapsed": false
      },
      "outputs": [],
      "source": [
        "%matplotlib inline"
      ]
    },
    {
      "cell_type": "markdown",
      "metadata": {},
      "source": [
        "\n# Anesthetized cat V1 simple cell\n\nThe code below uses an online algorithm to estimate the linear receptive field\nof a simple cell recorded from an anesthetized cat, as described in \"Touryan,\nJon and Felsen, Gidon and Dan, Yang (2005). Spatial structure of complex cell\nreceptive fields measured with natural images. Neuron 45 (5), 781-791.\"\n"
      ]
    },
    {
      "cell_type": "markdown",
      "metadata": {},
      "source": [
        "## Import requirments\n\n"
      ]
    },
    {
      "cell_type": "code",
      "execution_count": null,
      "metadata": {
        "collapsed": false
      },
      "outputs": [],
      "source": [
        "import numpy as np\nimport pandas as pd\nimport scipy.stats\nimport matplotlib.pyplot as plt\n\nimport ssm.inference"
      ]
    },
    {
      "cell_type": "markdown",
      "metadata": {},
      "source": [
        "## Define variables\n\n"
      ]
    },
    {
      "cell_type": "code",
      "execution_count": null,
      "metadata": {
        "collapsed": false
      },
      "outputs": [],
      "source": [
        "n_samples_to_use = 1000\nresponse_delay_samples = 1\nprior_precision_coef = 2.0\nlikelihood_precision_coef = 0.1\nfig_update_delay = 0.1\nimages_filename = \"https://www.gatsby.ucl.ac.uk/~rapela/neuroinformatics/2024/worksheets/linearRegression/data/equalpower_C2_25hzPP.dat\"\nresponses_filename = \"https://www.gatsby.ucl.ac.uk/~rapela/neuroinformatics/2024/worksheets/linearRegression/data/040909.a.c06.C2_nsSumSpikeRates.dat\""
      ]
    },
    {
      "cell_type": "markdown",
      "metadata": {},
      "source": [
        "## Get data\n\n"
      ]
    },
    {
      "cell_type": "code",
      "execution_count": null,
      "metadata": {
        "collapsed": false
      },
      "outputs": [],
      "source": [
        "images = pd.read_csv(images_filename, sep=\"\\s+\").to_numpy()\nresponses = pd.read_csv(responses_filename, sep=\"\\s+\").to_numpy().flatten()\nPhi = np.column_stack((np.ones(len(images)), images))\nn_pixels = images.shape[1]\nimage_width = int(np.sqrt(n_pixels))\nimage_height = image_width\n\nPhi = Phi[:-response_delay_samples,]\nresponses = responses[response_delay_samples:]\n\nn_samples_to_use = min(Phi.shape[0], n_samples_to_use)\nprint(f\"Using {n_samples_to_use} out of {Phi.shape[0]} samples\")\nPhi = Phi[:n_samples_to_use,]\nresponses = responses[:n_samples_to_use]"
      ]
    },
    {
      "cell_type": "markdown",
      "metadata": {},
      "source": [
        "## Build Kalman filter matrices\n\n"
      ]
    },
    {
      "cell_type": "code",
      "execution_count": null,
      "metadata": {
        "collapsed": false
      },
      "outputs": [],
      "source": [
        "B = np.eye(N=n_pixels+1)\nQ = np.zeros(shape=((n_pixels+1, n_pixels+1)))\nR = np.array([[1.0/likelihood_precision_coef]])"
      ]
    },
    {
      "cell_type": "markdown",
      "metadata": {},
      "source": [
        "## Estimate posterior\n\n"
      ]
    },
    {
      "cell_type": "code",
      "execution_count": null,
      "metadata": {
        "collapsed": false
      },
      "outputs": [],
      "source": [
        "# set prior\nm0 = np.zeros((n_pixels+1,), dtype=np.double)\nS0 = 1.0 / prior_precision_coef * np.eye(n_pixels+1, dtype=np.double)\nindices = np.arange(len(m0))\n\nfig = plt.figure()\nax1 = fig.add_subplot(2, 1, 1, adjustable=\"box\", aspect=1)\nax2 = fig.add_subplot(2, 1, 2)\n\nmn = m0\nSn = S0\nkf = ssm.inference.TimeVaryingOnlineKalmanFilter()\nfor n, t in enumerate(responses):\n    print(f\"Processing {n}/({len(responses)})\")\n    # update posterior\n    mn, Sn = kf.predict(x=mn, P=Sn, B=B, Q=Q)\n    mn, Sn = kf.update(y=t, x=mn, P=Sn, Z=Phi[n, :].reshape((1, Phi.shape[1])), R=R)\n\n    # plot posterior\n    stds = np.sqrt(np.diag(Sn))\n    ax1.clear()\n    ax1.contourf(mn[1:].reshape((image_width, image_height)))\n    title = (r\"$\\alpha={:.02f},\\beta={:.02f},\\lambda={:.02f},\"\n             \"{:d}/{:d}$\".format(\n                 prior_precision_coef, likelihood_precision_coef,\n                 prior_precision_coef/likelihood_precision_coef,\n                 n, len(responses)))\n    ax1.set_title(title)\n    ax2.clear()\n    ax2.errorbar(x=indices, y=mn, yerr=1.96*stds)\n    ax2.axhline(y=0)\n    ax2.set_xlabel(\"Pixel index\")\n    ax2.set_ylabel(\"Pixel value\")\n    # Note that using time.sleep does *not* work here!\n    plt.pause(fig_update_delay)"
      ]
    }
  ],
  "metadata": {
    "kernelspec": {
      "display_name": "Python 3",
      "language": "python",
      "name": "python3"
    },
    "language_info": {
      "codemirror_mode": {
        "name": "ipython",
        "version": 3
      },
      "file_extension": ".py",
      "mimetype": "text/x-python",
      "name": "python",
      "nbconvert_exporter": "python",
      "pygments_lexer": "ipython3",
      "version": "3.9.18"
    }
  },
  "nbformat": 4,
  "nbformat_minor": 0
}