{
  "cells": [
    {
      "cell_type": "code",
      "execution_count": null,
      "metadata": {
        "collapsed": false
      },
      "outputs": [],
      "source": [
        "%matplotlib inline"
      ]
    },
    {
      "cell_type": "markdown",
      "metadata": {},
      "source": [
        "\n# Learning and inference of latents with simple simulated data\n\nThe code below learns and infers latents with simple simulated data.\n"
      ]
    },
    {
      "cell_type": "markdown",
      "metadata": {},
      "source": [
        "## Import packages\n\n"
      ]
    },
    {
      "cell_type": "code",
      "execution_count": null,
      "metadata": {
        "collapsed": false
      },
      "outputs": [],
      "source": [
        "import numpy as np\nimport plotly.graph_objs as go\n\nimport ssm.simulation\nimport ssm.learning\nimport ssm.tracking.plotting"
      ]
    },
    {
      "cell_type": "markdown",
      "metadata": {},
      "source": [
        "## Define variables for simulation\n\n"
      ]
    },
    {
      "cell_type": "code",
      "execution_count": null,
      "metadata": {
        "collapsed": false
      },
      "outputs": [],
      "source": [
        "m0 = np.array([0.0, 0.0], dtype=np.double)\nV0 = np.array([[1e-3,0], [0,1e-3]], dtype=np.double)\nB = np.array([[0.9872,-0.0272], [0.0080,1.0128]], dtype=np.double)\nQ = np.array([[1e-3,0], [0,1e-3]], dtype=np.double)\nZ = np.array([[1,0], [0,1]], dtype=np.double)\nR = np.array([[.08,0], [0,.08]], dtype=np.double)\nnum_pos = 2000"
      ]
    },
    {
      "cell_type": "markdown",
      "metadata": {},
      "source": [
        "## Perform simulation\n\n"
      ]
    },
    {
      "cell_type": "code",
      "execution_count": null,
      "metadata": {
        "collapsed": false
      },
      "outputs": [],
      "source": [
        "x0, x, y = ssm.simulation.simulateLDS(T=num_pos, B=B, Q=Q, Z=Z, R=R, m0=m0,\n                                      V0=V0)\nsimulation_step = np.arange(x.shape[1])"
      ]
    },
    {
      "cell_type": "markdown",
      "metadata": {},
      "source": [
        "## Plot simulation\n\n"
      ]
    },
    {
      "cell_type": "code",
      "execution_count": null,
      "metadata": {
        "collapsed": false
      },
      "outputs": [],
      "source": [
        "fig = go.Figure()\ntrace_x = go.Scatter(x=x[0, :], y=x[1, :], mode=\"lines+markers\",\n                     showlegend=True, name=\"x\")\ntrace_y = go.Scatter(x=y[0, :], y=y[1, :], mode=\"lines+markers\",\n                     showlegend=True, name=\"y\", opacity=0.3)\ntrace_start = go.Scatter(x=[x0[0]], y=[x0[1]], mode=\"markers\",\n                         text=\"x0\", marker={\"size\": 7},\n                         showlegend=False)\nfig.add_trace(trace_x)\nfig.add_trace(trace_y)\nfig.add_trace(trace_start)\nfig"
      ]
    },
    {
      "cell_type": "markdown",
      "metadata": {},
      "source": [
        "## Define initial conditions and control variables for EM learning\n\n"
      ]
    },
    {
      "cell_type": "code",
      "execution_count": null,
      "metadata": {
        "collapsed": false
      },
      "outputs": [],
      "source": [
        "m0_0 =y[:,0]\nV0_0 = np.array([[1e-2,0], [0,1e-2]], np.double)\nB0 = np.array([[1.0,-0.1], [0.0080,1.5]], np.double)\nQ0 = np.array([[1e-4,0], [0,1e-2]], np.double)\nZ0 = np.array([[1.0,0.1], [-0.1,1.0]], np.double)\nR0 = np.array([[0.1,0], [0,0.1]], np.double)\n\n# True Values\n# V0_0 = np.array([[1e-3,0], [0,1e-3]], np.double)\n# B0 = np.array([[.9872,-0.0272],[0.0080,1.0128]], np.double)\n# Q0 = np.array([[1e-3,0], [0,1e-3]], np.double)\n# Z0 = np.array([[1.0,0.0], [0.0,1.0]], np.double)\n# R0 = np.array([[0.5,0], [0,0.5]], np.double)\n\nmax_iter = 50\ntol = 1e-6\nvars_to_estimate = {\"B\": True, \"Q\": True, \"Z\": True, \"R\": True,\n                    \"m0\": True, \"V0\": True}"
      ]
    },
    {
      "cell_type": "markdown",
      "metadata": {},
      "source": [
        "## Run EM\n\n"
      ]
    },
    {
      "cell_type": "code",
      "execution_count": null,
      "metadata": {
        "collapsed": false
      },
      "outputs": [],
      "source": [
        "optim_res = ssm.learning.em_SS_LDS(\n    y=y, B0=B0, Q0=Q0, Z0=Z0, R0=R0, m0_0=m0_0, V0_0=V0_0,\n    max_iter=max_iter, tol=tol, vars_to_estimate=vars_to_estimate,\n)"
      ]
    },
    {
      "cell_type": "markdown",
      "metadata": {},
      "source": [
        "## Plot log likelihood vs iteration number\n\n"
      ]
    },
    {
      "cell_type": "code",
      "execution_count": null,
      "metadata": {
        "collapsed": false
      },
      "outputs": [],
      "source": [
        "N = len(optim_res[\"log_like\"])\niter_no = np.arange(0, N)\nfig = go.Figure()\ntrace = go.Scatter(x=iter_no,\n                   y=optim_res[\"log_like\"],\n                   mode=\"lines+markers\")\nfig.add_trace(trace)\nfig.update_layout(xaxis=dict(title=\"Iteration Number\"),\n                  yaxis=dict(title=\"Lower Bound\"))\nfig"
      ]
    },
    {
      "cell_type": "markdown",
      "metadata": {},
      "source": [
        "## Filter simulations with the estimated parameters\n\n"
      ]
    },
    {
      "cell_type": "code",
      "execution_count": null,
      "metadata": {
        "collapsed": false
      },
      "outputs": [],
      "source": [
        "filter_res = ssm.inference.filterLDS_SS_withMissingValues_np(\n    y=y, B=optim_res[\"B\"], Q=optim_res[\"Q\"], m0=optim_res[\"m0\"],\n    V0=optim_res[\"V0\"], Z=optim_res[\"Z\"], R=optim_res[\"R\"])"
      ]
    },
    {
      "cell_type": "markdown",
      "metadata": {},
      "source": [
        "## Plot true and filtered states\n\n"
      ]
    },
    {
      "cell_type": "code",
      "execution_count": null,
      "metadata": {
        "collapsed": false
      },
      "outputs": [],
      "source": [
        "true_values = x[(0, 1), :]\nfiltered_means = filter_res[\"xnn\"][(0, 1), 0, :]\nfiltered_stds = np.sqrt(np.diagonal(a=filter_res[\"Pnn\"], axis1=0, axis2=1)[:, (0, 1)].T)\nfig = ssm.tracking.plotting.get_x_and_y_time_series_vs_time_fig(\n    time=simulation_step,\n    ylabel=\"State\",\n    xlabel=\"Simulation Step\",\n    true_values=true_values,\n    filtered_means=filtered_means,\n    filtered_stds=filtered_stds)\nfig.update_layout(title=f'Log-Likelihood: {filter_res[\"logLike\"].squeeze()}')\nfig"
      ]
    },
    {
      "cell_type": "markdown",
      "metadata": {},
      "source": [
        "## Calculate the one-step ahead forecasts\n\n"
      ]
    },
    {
      "cell_type": "code",
      "execution_count": null,
      "metadata": {
        "collapsed": false
      },
      "outputs": [],
      "source": [
        "one_step_ahead_mean = optim_res[\"Z\"] @ filter_res[\"xnn1\"][:, 0, :]\n# aux_covs = optim_res[\"R\"] + (optim_res[\"Z\"] @ filter_res[\"Pnn1\"] @ optim_res[\"Z\"].T)\naux1 = optim_res[\"Z\"] @ filter_res[\"Pnn1\"] # \\in ijl\naux2 = optim_res[\"Z\"].T # \\in jk\naux3 = np.einsum(\"ijl,jk->ikl\", aux1, aux2)\naux_covs = np.expand_dims(optim_res[\"R\"], 2) + aux3\none_step_ahead_var = np.diagonal(aux_covs, axis1=0, axis2=1).T"
      ]
    },
    {
      "cell_type": "markdown",
      "metadata": {},
      "source": [
        "## Plot measurements and one-step ahead forecasts\n\n"
      ]
    },
    {
      "cell_type": "code",
      "execution_count": null,
      "metadata": {
        "collapsed": false
      },
      "outputs": [],
      "source": [
        "fig = ssm.tracking.plotting.get_x_and_y_time_series_vs_time_fig(\n    time=simulation_step,\n    ylabel=\"One-Step Ahead Forecasts\",\n    xlabel=\"Simulation Step\",\n    measurements=y,\n    filtered_means=one_step_ahead_mean,\n    filtered_stds=np.sqrt(one_step_ahead_var))\nfig"
      ]
    }
  ],
  "metadata": {
    "kernelspec": {
      "display_name": "Python 3",
      "language": "python",
      "name": "python3"
    },
    "language_info": {
      "codemirror_mode": {
        "name": "ipython",
        "version": 3
      },
      "file_extension": ".py",
      "mimetype": "text/x-python",
      "name": "python",
      "nbconvert_exporter": "python",
      "pygments_lexer": "ipython3",
      "version": "3.9.18"
    }
  },
  "nbformat": 4,
  "nbformat_minor": 0
}