{
  "cells": [
    {
      "cell_type": "code",
      "execution_count": null,
      "metadata": {
        "collapsed": false
      },
      "outputs": [],
      "source": [
        "%matplotlib inline"
      ]
    },
    {
      "cell_type": "markdown",
      "metadata": {},
      "source": [
        "\n# Offline filtering of a simulated mouse trajectory\n\nThe code below performs online Kalman filtering of a simulated mouse\ntrajectory.\n"
      ]
    },
    {
      "cell_type": "markdown",
      "metadata": {},
      "source": [
        "## Import packages\n\n"
      ]
    },
    {
      "cell_type": "code",
      "execution_count": null,
      "metadata": {
        "collapsed": false
      },
      "outputs": [],
      "source": [
        "import numpy as np\nimport plotly.graph_objects as go\n\nimport ssm.tracking.utils\nimport ssm.simulation\nimport ssm.inference"
      ]
    },
    {
      "cell_type": "markdown",
      "metadata": {},
      "source": [
        "## Set initial conditions and parameters\n\n"
      ]
    },
    {
      "cell_type": "code",
      "execution_count": null,
      "metadata": {
        "collapsed": false
      },
      "outputs": [],
      "source": [
        "pos_x0 = 0.0\npos_y0 = 0.0\nvel_x0 = 0.0\nvel_y0 = 0.0\nace_x0 = 0.0\nace_y0 = 0.0\ndt = 1e-3\nnum_pos = 1000\nsigma_a = 1.0\nsigma_x = 1.0\nsigma_y = 1.0\nsqrt_diag_V0_value = 1e-03"
      ]
    },
    {
      "cell_type": "markdown",
      "metadata": {},
      "source": [
        "## Set LDS parameters\n\n"
      ]
    },
    {
      "cell_type": "code",
      "execution_count": null,
      "metadata": {
        "collapsed": false
      },
      "outputs": [],
      "source": [
        "B, Q, Qe, Z, R = ssm.tracking.utils.getLDSmatricesForKinematics_np(\n    dt=dt, sigma_a=sigma_a, pos_x_R_std=sigma_x, pos_y_R_std=sigma_y)\nm0 = np.array([pos_x0, vel_x0, ace_x0, pos_y0, vel_y0, ace_y0],\n              dtype=np.double)\nV0 = np.diag(np.ones(len(m0))*sqrt_diag_V0_value**2)"
      ]
    },
    {
      "cell_type": "markdown",
      "metadata": {},
      "source": [
        "## Sample from the LDS\nView source code of [ssm.simulation.simulateLDS](https://joacorapela.github.io/ssm/_modules/ssm/simulation.html#simulateLDS)\n\n"
      ]
    },
    {
      "cell_type": "code",
      "execution_count": null,
      "metadata": {
        "collapsed": false
      },
      "outputs": [],
      "source": [
        "x0, x, y = ssm.simulation.simulateLDS(T=num_pos, B=B, Q=Q, Z=Z, R=R,\n                                             m0=m0, V0=V0)"
      ]
    },
    {
      "cell_type": "markdown",
      "metadata": {},
      "source": [
        "## Perform batch filtering\nView source code of [ssm.inference.filterLDS_SS_withMissingValues_np](https://joacorapela.github.io/ssm/_modules/ssm/inference.html#filterLDS_SS_withMissingValues_np)\n\n"
      ]
    },
    {
      "cell_type": "code",
      "execution_count": null,
      "metadata": {
        "collapsed": false
      },
      "outputs": [],
      "source": [
        "Q = sigma_a*Qe\nfilterRes = ssm.inference.filterLDS_SS_withMissingValues_np(\n    y=y, B=B, Q=Q, m0=m0, V0=V0, Z=Z, R=R)"
      ]
    },
    {
      "cell_type": "markdown",
      "metadata": {},
      "source": [
        "## Set variables for plotting\n\n"
      ]
    },
    {
      "cell_type": "code",
      "execution_count": null,
      "metadata": {
        "collapsed": false
      },
      "outputs": [],
      "source": [
        "N = y.shape[1]\ntime = np.arange(0, N*dt, dt)\nfiltered_means = filterRes[\"xnn\"]\nfiltered_covs = filterRes[\"Pnn\"]\nfilter_std_x_y = np.sqrt(np.diagonal(a=filtered_covs, axis1=0, axis2=1))\ncolor_true = \"blue\"\ncolor_measured = \"black\"\ncolor_filtered_pattern = \"rgba(255,0,0,{:f})\"\ncb_alpha = 0.3"
      ]
    },
    {
      "cell_type": "markdown",
      "metadata": {},
      "source": [
        "## Define function for plotting\n\n"
      ]
    },
    {
      "cell_type": "code",
      "execution_count": null,
      "metadata": {
        "collapsed": false
      },
      "outputs": [],
      "source": [
        "def get_fig_kinematics_vs_time(\n    time,\n    true_x, true_y,\n    measured_x, measured_y,\n    estimated_mean_x, estimated_mean_y,\n    estimated_ci_x_upper, estimated_ci_y_upper,\n    estimated_ci_x_lower, estimated_ci_y_lower,\n    cb_alpha,\n    color_true,\n    color_measured,\n    color_estimated_pattern,\n    xlabel, ylabel):\n\n    fig = go.Figure()\n    trace_true_x = go.Scatter(\n        x=time, y=true_x,\n        mode=\"markers\",\n        marker={\"color\": color_true},\n        name=\"true x\",\n        showlegend=True,\n    )\n    fig.add_trace(trace_true_x)\n    trace_true_y = go.Scatter(\n        x=time, y=true_y,\n        mode=\"markers\",\n        marker={\"color\": color_true},\n        name=\"true y\",\n        showlegend=True,\n    )\n    fig.add_trace(trace_true_y)\n    if measured_x is not None:\n        trace_mes_x = go.Scatter(\n            x=time, y=measured_x,\n            mode=\"markers\",\n            marker={\"color\": color_measured},\n            name=\"measured x\",\n            showlegend=True,\n        )\n        fig.add_trace(trace_mes_x)\n    if measured_y is not None:\n        trace_mes_y = go.Scatter(\n            x=time, y=measured_y,\n            mode=\"markers\",\n            marker={\"color\": color_measured},\n            name=\"measured y\",\n            showlegend=True,\n        )\n        fig.add_trace(trace_mes_y)\n    trace_est_x = go.Scatter(\n        x=time, y=estimated_mean_x,\n        mode=\"markers\",\n        marker={\"color\": color_estimated_pattern.format(1.0)},\n        name=\"estimated x\",\n        showlegend=True,\n        legendgroup=\"estimated_x\",\n    )\n    fig.add_trace(trace_est_x)\n    trace_est_x_cb = go.Scatter(\n        x=np.concatenate([time, time[::-1]]),\n        y=np.concatenate([estimated_ci_x_upper, estimated_ci_x_lower[::-1]]),\n        fill=\"toself\",\n        fillcolor=color_estimated_pattern.format(cb_alpha),\n        line=dict(color=color_estimated_pattern.format(0.0)),\n        showlegend=False,\n        legendgroup=\"estimated_x\",\n    )\n    fig.add_trace(trace_est_x_cb)\n    trace_est_y = go.Scatter(\n        x=time, y=estimated_mean_y,\n        mode=\"markers\",\n        marker={\"color\": color_estimated_pattern.format(1.0)},\n        name=\"estimated y\",\n        showlegend=True,\n        legendgroup=\"estimated_y\",\n    )\n    fig.add_trace(trace_est_y)\n    trace_est_y_cb = go.Scatter(\n        x=np.concatenate([time, time[::-1]]),\n        y=np.concatenate([estimated_ci_y_upper, estimated_ci_y_lower[::-1]]),\n        fill=\"toself\",\n        fillcolor=color_estimated_pattern.format(cb_alpha),\n        line=dict(color=color_estimated_pattern.format(0.0)),\n        showlegend=False,\n        legendgroup=\"estimated_y\",\n    )\n    fig.add_trace(trace_est_y_cb)\n\n    fig.update_layout(xaxis_title=xlabel,\n                      yaxis_title=ylabel,\n                      paper_bgcolor='rgba(0,0,0,0)',\n                      plot_bgcolor='rgba(0,0,0,0)',\n                      yaxis_range=[estimated_mean_x.min(),\n                                   estimated_mean_x.max()],\n                     )\n    return fig"
      ]
    },
    {
      "cell_type": "markdown",
      "metadata": {},
      "source": [
        "## Plot true, measured and filtered positions (with 95% confidence band)\n\n"
      ]
    },
    {
      "cell_type": "code",
      "execution_count": null,
      "metadata": {
        "collapsed": false
      },
      "outputs": [],
      "source": [
        "true_x = x[0, :]\ntrue_y = x[3, :]\nmeasured_x = y[0, :]\nmeasured_y = y[1, :]\nfilter_mean_x = filtered_means[0, 0, :]\nfilter_mean_y = filtered_means[3, 0, :]\n\nfilter_ci_x_upper = filter_mean_x + 1.96*filter_std_x_y[:, 0]\nfilter_ci_x_lower = filter_mean_x - 1.96*filter_std_x_y[:, 0]\nfilter_ci_y_upper = filter_mean_y + 1.96*filter_std_x_y[:, 3]\nfilter_ci_y_lower = filter_mean_y - 1.96*filter_std_x_y[:, 3]\n\nfig = get_fig_kinematics_vs_time(\n    time=time,\n    true_x=true_x, true_y=true_y,\n    measured_x=measured_x, measured_y=measured_y,\n    estimated_mean_x=filter_mean_x, estimated_mean_y=filter_mean_y,\n    estimated_ci_x_upper=filter_ci_x_upper,\n    estimated_ci_y_upper=filter_ci_y_upper,\n    estimated_ci_x_lower=filter_ci_x_lower,\n    estimated_ci_y_lower=filter_ci_y_lower,\n    cb_alpha=cb_alpha,\n    color_true=color_true, color_measured=color_measured,\n    color_estimated_pattern=color_filtered_pattern,\n    xlabel=\"Time (sec)\", ylabel=\"Position (pixels)\")\n# fig_filename_pattern = \"../../figures/filtered_pos.{:s}\"\n# fig.write_image(fig_filename_pattern.format(\"png\"))\n# fig.write_html(fig_filename_pattern.format(\"html\"))\nfig"
      ]
    },
    {
      "cell_type": "markdown",
      "metadata": {},
      "source": [
        "## Plot true and filtered velocities (with 95% confidence band)\n\n"
      ]
    },
    {
      "cell_type": "code",
      "execution_count": null,
      "metadata": {
        "collapsed": false
      },
      "outputs": [],
      "source": [
        "true_x = x[1, :]\ntrue_y = x[4, :]\nmeasured_x = None\nmeasured_y = None\nfilter_mean_x = filtered_means[1, 0, :]\nfilter_mean_y = filtered_means[4, 0, :]\n\nfilter_ci_x_upper = filter_mean_x + 1.96*filter_std_x_y[:, 1]\nfilter_ci_x_lower = filter_mean_x - 1.96*filter_std_x_y[:, 1]\nfilter_ci_y_upper = filter_mean_y + 1.96*filter_std_x_y[:, 4]\nfilter_ci_y_lower = filter_mean_y - 1.96*filter_std_x_y[:, 4]\n\nfig = get_fig_kinematics_vs_time(\n    time=time,\n    true_x=true_x, true_y=true_y,\n    measured_x=measured_x, measured_y=measured_y,\n    estimated_mean_x=filter_mean_x, estimated_mean_y=filter_mean_y,\n    estimated_ci_x_upper=filter_ci_x_upper,\n    estimated_ci_y_upper=filter_ci_y_upper,\n    estimated_ci_x_lower=filter_ci_x_lower,\n    estimated_ci_y_lower=filter_ci_y_lower,\n    cb_alpha=cb_alpha,\n    color_true=color_true, color_measured=color_measured,\n    color_estimated_pattern=color_filtered_pattern,\n    xlabel=\"Time (sec)\", ylabel=\"Velocity (pixels/sec)\")\n# fig_filename_pattern = \"../../figures/filtered_vel.{:s}\"\n# fig.write_image(fig_filename_pattern.format(\"png\"))\n# fig.write_html(fig_filename_pattern.format(\"html\"))\nfig"
      ]
    },
    {
      "cell_type": "markdown",
      "metadata": {},
      "source": [
        "## Plot true and filtered accelerations (with 95% confidence band)\n\n"
      ]
    },
    {
      "cell_type": "code",
      "execution_count": null,
      "metadata": {
        "collapsed": false
      },
      "outputs": [],
      "source": [
        "true_x = x[2, :]\ntrue_y = x[5, :]\nmeasured_x = None\nmeasured_y = None\nfilter_mean_x = filtered_means[2, 0, :]\nfilter_mean_y = filtered_means[5, 0, :]\n\nfilter_ci_x_upper = filter_mean_x + 1.96*filter_std_x_y[:, 2]\nfilter_ci_x_lower = filter_mean_x - 1.96*filter_std_x_y[:, 2]\nfilter_ci_y_upper = filter_mean_y + 1.96*filter_std_x_y[:, 5]\nfilter_ci_y_lower = filter_mean_y - 1.96*filter_std_x_y[:, 5]\n\nfig = get_fig_kinematics_vs_time(\n    time=time,\n    true_x=true_x, true_y=true_y,\n    measured_x=measured_x, measured_y=measured_y,\n    estimated_mean_x=filter_mean_x, estimated_mean_y=filter_mean_y,\n    estimated_ci_x_upper=filter_ci_x_upper,\n    estimated_ci_y_upper=filter_ci_y_upper,\n    estimated_ci_x_lower=filter_ci_x_lower,\n    estimated_ci_y_lower=filter_ci_y_lower,\n    cb_alpha=cb_alpha,\n    color_true=color_true, color_measured=color_measured,\n    color_estimated_pattern=color_filtered_pattern,\n    xlabel=\"Time (sec)\", ylabel=\"Acceleration (pixels/sec^2)\")\n# fig_filename_pattern = \"../../figures/filtered_acc.{:s}\"\n# fig.write_image(fig_filename_pattern.format(\"png\"))\n# fig.write_html(fig_filename_pattern.format(\"html\"))\nfig"
      ]
    }
  ],
  "metadata": {
    "kernelspec": {
      "display_name": "Python 3",
      "language": "python",
      "name": "python3"
    },
    "language_info": {
      "codemirror_mode": {
        "name": "ipython",
        "version": 3
      },
      "file_extension": ".py",
      "mimetype": "text/x-python",
      "name": "python",
      "nbconvert_exporter": "python",
      "pygments_lexer": "ipython3",
      "version": "3.9.18"
    }
  },
  "nbformat": 4,
  "nbformat_minor": 0
}