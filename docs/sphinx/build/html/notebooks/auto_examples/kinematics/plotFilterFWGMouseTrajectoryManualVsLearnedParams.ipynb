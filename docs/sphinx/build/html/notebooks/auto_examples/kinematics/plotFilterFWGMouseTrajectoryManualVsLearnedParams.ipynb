{
  "cells": [
    {
      "cell_type": "code",
      "execution_count": null,
      "metadata": {
        "collapsed": false
      },
      "outputs": [],
      "source": [
        "%matplotlib inline"
      ]
    },
    {
      "cell_type": "markdown",
      "metadata": {},
      "source": [
        "\n# Filtering of a foraging mouse trajectory with manual vs learned parameters\n\nThe code below performs Kalman filtering and smoothing of a trajectory of the\nmouse shown on the left image below, as it forages in the arena shown on the\nright image below, with manual and learned parameters. Click on the images to\nsee their larger versions.\n\n<img src=\"file://_static/mouseOnWheel.png\" width=\"300\" alt=\"image of mouse on wheel\">\n\n<img src=\"file://_static/foragingMouse.png\" width=\"300\" alt=\"image of foraging mouse\">\n"
      ]
    },
    {
      "cell_type": "markdown",
      "metadata": {},
      "source": [
        "## Import packages\n\n"
      ]
    },
    {
      "cell_type": "code",
      "execution_count": null,
      "metadata": {
        "collapsed": false
      },
      "outputs": [],
      "source": [
        "import sys\nimport os\nimport random\nimport pickle\nimport configparser\nimport numpy as np\nimport pandas as pd\nimport torch\nimport plotly.graph_objects as go\n\nimport ssm.tracking.utils\nimport ssm.inference\nimport ssm.learning"
      ]
    },
    {
      "cell_type": "markdown",
      "metadata": {},
      "source": [
        "## Setup configuration variables\n\n"
      ]
    },
    {
      "cell_type": "code",
      "execution_count": null,
      "metadata": {
        "collapsed": false
      },
      "outputs": [],
      "source": [
        "start_position = 0\nnumber_positions = 10000\ncolor_measures = \"black\"\ncolor_pattern_filtered = \"rgba(255,0,0,{:f})\"\ncb_alpha = 0.3\ndata_filename = \"http://www.gatsby.ucl.ac.uk/~rapela/svGPFA/data/positions_session003_start0.00_end15548.27.csv\""
      ]
    },
    {
      "cell_type": "markdown",
      "metadata": {},
      "source": [
        "## Get the mouse position measurements\n\n"
      ]
    },
    {
      "cell_type": "code",
      "execution_count": null,
      "metadata": {
        "collapsed": false
      },
      "outputs": [],
      "source": [
        "data = pd.read_csv(data_filename)\ndata = data.iloc[start_position:start_position+number_positions,:]\ny = np.transpose(data[[\"x\", \"y\"]].to_numpy())"
      ]
    },
    {
      "cell_type": "markdown",
      "metadata": {},
      "source": [
        "## Kalman filter matrices for tracking\n\n"
      ]
    },
    {
      "cell_type": "code",
      "execution_count": null,
      "metadata": {
        "collapsed": false
      },
      "outputs": [],
      "source": [
        "date_times = pd.to_datetime(data[\"time\"])\ndt = (date_times.iloc[1]-date_times.iloc[0]).total_seconds()\nB, _, Qe,  Z, _ = ssm.tracking.utils.getLDSmatricesForKinematics_np(\n    dt=dt, sigma_a=np.nan, pos_x_R_std=np.nan, pos_y_R_std=np.nan)"
      ]
    },
    {
      "cell_type": "markdown",
      "metadata": {},
      "source": [
        "## Filtering with manual parameters\n\n"
      ]
    },
    {
      "cell_type": "code",
      "execution_count": null,
      "metadata": {
        "collapsed": false
      },
      "outputs": [],
      "source": [
        "pos_x0_manual = y[0, 0]\npos_y0_manual = y[1, 0]\nvel_x0_manual = 0.0\nvel_y0_manual = 0.0\nacc_x0_manual = 0.0\nacc_y0_manual = 0.0\nsigma_a_manual = 1e1\nsigma_x_manual = 1e1\nsigma_y_manual = 1e1\nsqrt_diag_V0_value_manual = 1e-3\n\nm0_manual = np.array([pos_x0_manual, vel_x0_manual, acc_x0_manual,\n                      pos_y0_manual, vel_y0_manual, acc_y0_manual], dtype=np.double)\nR_manual = np.diag([sigma_x_manual**2, sigma_y_manual**2])\nV0_manual = np.diag(np.ones(len(m0_manual))*sqrt_diag_V0_value_manual**2)\nQ_manual = Qe*sigma_a_manual\n\nfilterRes_manual = ssm.inference.filterLDS_SS_withMissingValues_np(\n    y=y, B=B, Q=Q_manual, m0=m0_manual, V0=V0_manual, Z=Z, R=R_manual)\n\nsmoothRes_manual = ssm.inference.smoothLDS_SS(\n    B=B, xnn=filterRes_manual[\"xnn\"], Pnn=filterRes_manual[\"Pnn\"],\n    xnn1=filterRes_manual[\"xnn1\"], Pnn1=filterRes_manual[\"Pnn1\"],\n    m0=m0_manual, V0=V0_manual)"
      ]
    },
    {
      "cell_type": "markdown",
      "metadata": {},
      "source": [
        "## Filtering with learned parameters\n\n"
      ]
    },
    {
      "cell_type": "markdown",
      "metadata": {},
      "source": [
        "### Learn parameters\n\n"
      ]
    },
    {
      "cell_type": "code",
      "execution_count": null,
      "metadata": {
        "collapsed": false
      },
      "outputs": [],
      "source": [
        "skip_estimation_sigma_a = False\nskip_estimation_R = False\nskip_estimation_m0 = False\nskip_estimation_V0 = False\n\nlbfgs_max_iter = 2\nlbfgs_tolerance_grad = -1\nlbfgs_tolerance_change = 1e-3\nlbfgs_lr = 1e-4\nlbfgs_n_epochs = 1\nlbfgs_tol = 1e-3\nQe_reg_param_learned = 1e-5\npos_x_R_std0_torch = torch.DoubleTensor([sigma_x_manual])\npos_y_R_std0_torch = torch.DoubleTensor([sigma_y_manual])\nm0_torch = torch.from_numpy(m0_manual.copy())\nsqrt_diag_V0_torch = torch.DoubleTensor([sqrt_diag_V0_value_manual\n                                         for i in range(len(m0_manual))])\nif Qe_reg_param_learned is not None:\n    Qe_regularized_learned = Qe + Qe_reg_param_learned * np.eye(Qe.shape[0])\nelse:\n    Qe_regularized_learned = Qe\ny_torch = torch.from_numpy(y.astype(np.double))\nB_torch = torch.from_numpy(B.astype(np.double))\nQe_regularized_learned_torch = torch.from_numpy(Qe_regularized_learned.astype(np.double))\nZ_torch = torch.from_numpy(Z.astype(np.double))\n\nvars_to_estimate = {}\nif skip_estimation_sigma_a:\n    vars_to_estimate[\"sigma_a\"] = False\nelse:\n    vars_to_estimate[\"sigma_a\"] = True\n\nif skip_estimation_R:\n    vars_to_estimate[\"sqrt_diag_R\"] = False\n    vars_to_estimate[\"R\"] = False\n    vars_to_estimate[\"pos_x_R_std\"] = False\n    vars_to_estimate[\"pos_y_R_std\"] = False\nelse:\n    vars_to_estimate[\"sqrt_diag_R\"] = True\n    vars_to_estimate[\"R\"] = True\n    vars_to_estimate[\"pos_x_R_std\"] = True\n    vars_to_estimate[\"pos_y_R_std\"] = True\n\nif skip_estimation_m0:\n    vars_to_estimate[\"m0\"] = False\nelse:\n    vars_to_estimate[\"m0\"] = True\n\nif skip_estimation_V0:\n    vars_to_estimate[\"sqrt_diag_V0\"] = False\n    vars_to_estimate[\"V0\"] = False\nelse:\n    vars_to_estimate[\"sqrt_diag_V0\"] = True\n    vars_to_estimate[\"V0\"] = True\n\noptim_res_learned = ssm.learning.torch_lbfgs_optimize_SS_tracking_diagV0(\n    y=y_torch, B=B_torch, sigma_a0=sigma_a_manual,\n    Qe=Qe_regularized_learned_torch, Z=Z_torch, pos_x_R_std0=pos_x_R_std0_torch,\n    pos_y_R_std0=pos_y_R_std0_torch, m0_0=m0_torch,\n    sqrt_diag_V0_0=sqrt_diag_V0_torch, max_iter=lbfgs_max_iter, lr=lbfgs_lr,\n    vars_to_estimate=vars_to_estimate, tolerance_grad=lbfgs_tolerance_grad,\n    tolerance_change=lbfgs_tolerance_change, n_epochs=lbfgs_n_epochs,\n    tol=lbfgs_tol)"
      ]
    },
    {
      "cell_type": "markdown",
      "metadata": {},
      "source": [
        "### Filter\n\n"
      ]
    },
    {
      "cell_type": "code",
      "execution_count": null,
      "metadata": {
        "collapsed": false
      },
      "outputs": [],
      "source": [
        "Q_learned = optim_res_learned[\"estimates\"][\"sigma_a\"].item()**2*Qe\nm0_learned = optim_res_learned[\"estimates\"][\"m0\"].numpy()\nV0_learned = np.diag(optim_res_learned[\"estimates\"][\"sqrt_diag_V0\"].numpy()**2)\nR_learned = np.diag([optim_res_learned[\"estimates\"][\"pos_x_R_std\"].item()**2,\n                     optim_res_learned[\"estimates\"][\"pos_y_R_std\"].item()**2])\n\nfilterRes_learned = ssm.inference.filterLDS_SS_withMissingValues_np(\n    y=y, B=B, Q=Q_learned, m0=m0_learned, V0=V0_learned, Z=Z, R=R_learned)\n\nsmoothRes_learned = ssm.inference.smoothLDS_SS(\n    B=B, xnn=filterRes_learned[\"xnn\"], Pnn=filterRes_learned[\"Pnn\"],\n    xnn1=filterRes_learned[\"xnn1\"], Pnn1=filterRes_learned[\"Pnn1\"], m0=m0_learned, V0=V0_learned)"
      ]
    },
    {
      "cell_type": "markdown",
      "metadata": {},
      "source": [
        "## Plots\n\n"
      ]
    },
    {
      "cell_type": "code",
      "execution_count": null,
      "metadata": {
        "collapsed": false
      },
      "outputs": [],
      "source": [
        "def get_fig_kinematics_vs_time(\n    time,\n    measured_x, measured_y,\n    finite_diff_x, finite_diff_y,\n    manual_mean_x, manual_mean_y,\n    manual_ci_x_upper, manual_ci_y_upper,\n    manual_ci_x_lower, manual_ci_y_lower,\n    learned_mean_x, learned_mean_y,\n    learned_ci_x_upper, learned_ci_y_upper,\n    learned_ci_x_lower, learned_ci_y_lower,\n    cb_alpha,\n    color_true,\n    color_measured,\n    color_finite_diff,\n    color_manual_pattern,\n    color_learned_pattern,\n    xlabel, ylabel):\n\n    fig = go.Figure()\n    if measured_x is not None:\n        trace_mes_x = go.Scatter(\n            x=time, y=measured_x,\n            mode=\"markers\",\n            marker={\"color\": color_measured},\n            name=\"measured x\",\n            showlegend=True,\n        )\n        fig.add_trace(trace_mes_x)\n    if measured_y is not None:\n        trace_mes_y = go.Scatter(\n            x=time, y=measured_y,\n            mode=\"markers\",\n            marker={\"color\": color_measured},\n            name=\"measured y\",\n            showlegend=True,\n        )\n        fig.add_trace(trace_mes_y)\n    if finite_diff_x is not None:\n        trace_fd_x = go.Scatter(\n            x=time, y=finite_diff_x,\n            mode=\"markers\",\n            marker={\"color\": color_finite_diff},\n            name=\"finite difference x\",\n            showlegend=True,\n        )\n        fig.add_trace(trace_fd_x)\n    if finite_diff_y is not None:\n        trace_fd_y = go.Scatter(\n            x=time, y=finite_diff_y,\n            mode=\"markers\",\n            marker={\"color\": color_finite_diff},\n            name=\"finite difference y\",\n            showlegend=True,\n        )\n        fig.add_trace(trace_fd_y)\n    trace_manual_x = go.Scatter(\n        x=time, y=manual_mean_x,\n        mode=\"markers\",\n        marker={\"color\": color_manual_pattern.format(1.0)},\n        name=\"manual x\",\n        showlegend=True,\n        legendgroup=\"manual_x\",\n    )\n    fig.add_trace(trace_manual_x)\n    trace_manual_x_cb = go.Scatter(\n        x=np.concatenate([time, time[::-1]]),\n        y=np.concatenate([manual_ci_x_upper, manual_ci_x_lower[::-1]]),\n        fill=\"toself\",\n        fillcolor=color_manual_pattern.format(cb_alpha),\n        line=dict(color=color_manual_pattern.format(0.0)),\n        showlegend=False,\n        legendgroup=\"manual_x\",\n    )\n    fig.add_trace(trace_manual_x_cb)\n    trace_manual_y = go.Scatter(\n        x=time, y=manual_mean_y,\n        mode=\"markers\",\n        marker={\"color\": color_manual_pattern.format(1.0)},\n        name=\"manual y\",\n        showlegend=True,\n        legendgroup=\"manual_y\",\n    )\n    fig.add_trace(trace_manual_y)\n    trace_manual_y_cb = go.Scatter(\n        x=np.concatenate([time, time[::-1]]),\n        y=np.concatenate([manual_ci_y_upper, manual_ci_y_lower[::-1]]),\n        fill=\"toself\",\n        fillcolor=color_manual_pattern.format(cb_alpha),\n        line=dict(color=color_manual_pattern.format(0.0)),\n        showlegend=False,\n        legendgroup=\"manual_y\",\n    )\n    fig.add_trace(trace_manual_y_cb)\n    trace_learned_x = go.Scatter(\n        x=time, y=learned_mean_x,\n        mode=\"markers\",\n        marker={\"color\": color_learned_pattern.format(1.0)},\n        name=\"learned x\",\n        showlegend=True,\n        legendgroup=\"learned_x\",\n    )\n    fig.add_trace(trace_learned_x)\n    trace_learned_x_cb = go.Scatter(\n        x=np.concatenate([time, time[::-1]]),\n        y=np.concatenate([learned_ci_x_upper, learned_ci_x_lower[::-1]]),\n        fill=\"toself\",\n        fillcolor=color_learned_pattern.format(cb_alpha),\n        line=dict(color=color_learned_pattern.format(0.0)),\n        showlegend=False,\n        legendgroup=\"learned_x\",\n    )\n    fig.add_trace(trace_learned_x_cb)\n    trace_learned_y = go.Scatter(\n        x=time, y=learned_mean_y,\n        mode=\"markers\",\n        marker={\"color\": color_learned_pattern.format(1.0)},\n        name=\"learned y\",\n        showlegend=True,\n        legendgroup=\"learned_y\",\n    )\n    fig.add_trace(trace_learned_y)\n    trace_learned_y_cb = go.Scatter(\n        x=np.concatenate([time, time[::-1]]),\n        y=np.concatenate([learned_ci_y_upper, learned_ci_y_lower[::-1]]),\n        fill=\"toself\",\n        fillcolor=color_learned_pattern.format(cb_alpha),\n        line=dict(color=color_learned_pattern.format(0.0)),\n        showlegend=False,\n        legendgroup=\"learned_y\",\n    )\n    fig.add_trace(trace_learned_y_cb)\n\n    fig.update_layout(xaxis_title=xlabel,\n                      yaxis_title=ylabel,\n                      paper_bgcolor='rgba(0,0,0,0)',\n                      plot_bgcolor='rgba(0,0,0,0)',\n                     )\n    return fig"
      ]
    },
    {
      "cell_type": "markdown",
      "metadata": {},
      "source": [
        "### Set variables for plotting\n\n"
      ]
    },
    {
      "cell_type": "code",
      "execution_count": null,
      "metadata": {
        "collapsed": false
      },
      "outputs": [],
      "source": [
        "N = y.shape[1]\ntime = np.arange(0, N*dt, dt)\n\nfiltered_means_manual = filterRes_manual[\"xnn\"]\nfiltered_covs_manual = filterRes_manual[\"Pnn\"]\nfiltered_std_x_y_manual = np.sqrt(np.diagonal(a=filtered_covs_manual, axis1=0, axis2=1))\nfiltered_means_learned = filterRes_learned[\"xnn\"]\nfiltered_covs_learned = filterRes_learned[\"Pnn\"]\nfiltered_std_x_y_learned = np.sqrt(np.diagonal(a=filtered_covs_learned, axis1=0, axis2=1))\n\nsmoothed_means_manual = smoothRes_manual[\"xnN\"]\nsmoothed_covs_manual = smoothRes_manual[\"PnN\"]\nsmoothed_std_x_y_manual = np.sqrt(np.diagonal(a=smoothed_covs_manual, axis1=0, axis2=1))\nsmoothed_means_learned = smoothRes_learned[\"xnN\"]\nsmoothed_covs_learned = smoothRes_learned[\"PnN\"]\nsmoothed_std_x_y_learned = np.sqrt(np.diagonal(a=smoothed_covs_learned, axis1=0, axis2=1))\n\ncolor_true = \"blue\"\ncolor_measured = \"black\"\ncolor_finite_diff = \"blue\"\ncolor_manual_pattern = \"rgba(255,165,0,{:f})\"\ncolor_learned_pattern = \"rgba(255,0,0,{:f})\"\ncb_alpha = 0.3"
      ]
    },
    {
      "cell_type": "markdown",
      "metadata": {},
      "source": [
        "### Positions filtered\n\n"
      ]
    },
    {
      "cell_type": "code",
      "execution_count": null,
      "metadata": {
        "collapsed": false
      },
      "outputs": [],
      "source": [
        "measured_x = y[0, :]\nmeasured_y = y[1, :]\nfinite_diff_x = None\nfinite_diff_y = None\nfiltered_mean_x_manual = filtered_means_manual[0, 0, :]\nfiltered_mean_y_manual = filtered_means_manual[3, 0, :]\nfiltered_mean_x_learned = filtered_means_learned[0, 0, :]\nfiltered_mean_y_learned = filtered_means_learned[3, 0, :]\n\nfiltered_ci_x_upper_manual = filtered_mean_x_manual + 1.96*filtered_std_x_y_manual[:, 0]\nfiltered_ci_x_lower_manual = filtered_mean_x_manual - 1.96*filtered_std_x_y_manual[:, 0]\nfiltered_ci_y_upper_manual = filtered_mean_y_manual + 1.96*filtered_std_x_y_manual[:, 3]\nfiltered_ci_y_lower_manual = filtered_mean_y_manual - 1.96*filtered_std_x_y_manual[:, 3]\nfiltered_ci_x_upper_learned = filtered_mean_x_learned + 1.96*filtered_std_x_y_learned[:, 0]\nfiltered_ci_x_lower_learned = filtered_mean_x_learned - 1.96*filtered_std_x_y_learned[:, 0]\nfiltered_ci_y_upper_learned = filtered_mean_y_learned + 1.96*filtered_std_x_y_learned[:, 3]\nfiltered_ci_y_lower_learned = filtered_mean_y_learned - 1.96*filtered_std_x_y_learned[:, 3]\n\nfig = get_fig_kinematics_vs_time(\n    time=time,\n    measured_x=measured_x, measured_y=measured_y,\n    finite_diff_x=finite_diff_x, finite_diff_y=finite_diff_y,\n    manual_mean_x=filtered_mean_x_manual,\n    manual_mean_y=filtered_mean_y_manual,\n    manual_ci_x_upper=filtered_ci_x_upper_manual,\n    manual_ci_y_upper=filtered_ci_y_upper_manual,\n    manual_ci_x_lower=filtered_ci_x_lower_manual,\n    manual_ci_y_lower=filtered_ci_y_lower_manual,\n    learned_mean_x=filtered_mean_x_learned,\n    learned_mean_y=filtered_mean_y_learned,\n    learned_ci_x_upper=filtered_ci_x_upper_learned,\n    learned_ci_y_upper=filtered_ci_y_upper_learned,\n    learned_ci_x_lower=filtered_ci_x_lower_learned,\n    learned_ci_y_lower=filtered_ci_y_lower_learned,\n    cb_alpha=cb_alpha,\n    color_true=color_true, color_measured=color_measured,\n    color_finite_diff=color_finite_diff,\n    color_learned_pattern=color_learned_pattern,\n    color_manual_pattern=color_manual_pattern,\n    xlabel=\"Time (sec)\", ylabel=\"Position (pixels)\")\nfig"
      ]
    },
    {
      "cell_type": "markdown",
      "metadata": {},
      "source": [
        "### Positions smoothed\n\n"
      ]
    },
    {
      "cell_type": "code",
      "execution_count": null,
      "metadata": {
        "collapsed": false
      },
      "outputs": [],
      "source": [
        "measured_x = y[0, :]\nmeasured_y = y[1, :]\nfinite_diff_x = None\nfinite_diff_y = None\nsmoothed_mean_x_manual = smoothed_means_manual[0, 0, :]\nsmoothed_mean_y_manual = smoothed_means_manual[3, 0, :]\nsmoothed_mean_x_learned = smoothed_means_learned[0, 0, :]\nsmoothed_mean_y_learned = smoothed_means_learned[3, 0, :]\n\nsmoothed_ci_x_upper_manual = smoothed_mean_x_manual + 1.96*smoothed_std_x_y_manual[:, 0]\nsmoothed_ci_x_lower_manual = smoothed_mean_x_manual - 1.96*smoothed_std_x_y_manual[:, 0]\nsmoothed_ci_y_upper_manual = smoothed_mean_y_manual + 1.96*smoothed_std_x_y_manual[:, 3]\nsmoothed_ci_y_lower_manual = smoothed_mean_y_manual - 1.96*smoothed_std_x_y_manual[:, 3]\n\nsmoothed_ci_x_upper_learned = smoothed_mean_x_learned + 1.96*smoothed_std_x_y_learned[:, 0]\nsmoothed_ci_x_lower_learned = smoothed_mean_x_learned - 1.96*smoothed_std_x_y_learned[:, 0]\nsmoothed_ci_y_upper_learned = smoothed_mean_y_learned + 1.96*smoothed_std_x_y_learned[:, 3]\nsmoothed_ci_y_lower_learned = smoothed_mean_y_learned - 1.96*smoothed_std_x_y_learned[:, 3]\n\nfig = get_fig_kinematics_vs_time(\n    time=time,\n    measured_x=measured_x, measured_y=measured_y,\n    finite_diff_x=finite_diff_x, finite_diff_y=finite_diff_y,\n    manual_mean_x=smoothed_mean_x_manual,\n    manual_mean_y=smoothed_mean_y_manual,\n    manual_ci_x_upper=smoothed_ci_x_upper_manual,\n    manual_ci_y_upper=smoothed_ci_y_upper_manual,\n    manual_ci_x_lower=smoothed_ci_x_lower_manual,\n    manual_ci_y_lower=smoothed_ci_y_lower_manual,\n    learned_mean_x=smoothed_mean_x_learned,\n    learned_mean_y=smoothed_mean_y_learned,\n    learned_ci_x_upper=smoothed_ci_x_upper_learned,\n    learned_ci_y_upper=smoothed_ci_y_upper_learned,\n    learned_ci_x_lower=smoothed_ci_x_lower_learned,\n    learned_ci_y_lower=smoothed_ci_y_lower_learned,\n    cb_alpha=cb_alpha,\n    color_true=color_true, color_measured=color_measured,\n    color_finite_diff=color_finite_diff,\n    color_learned_pattern=color_learned_pattern,\n    color_manual_pattern=color_manual_pattern,\n    xlabel=\"Time (sec)\", ylabel=\"Position (pixels)\")\nfig"
      ]
    },
    {
      "cell_type": "markdown",
      "metadata": {},
      "source": [
        "### Velocities filtered\n\n"
      ]
    },
    {
      "cell_type": "code",
      "execution_count": null,
      "metadata": {
        "collapsed": false
      },
      "outputs": [],
      "source": [
        "measured_x = None\nmeasured_y = None\nfinite_diff_x = np.diff(y[0, :])/dt\nfinite_diff_y = np.diff(y[1, :])/dt\n\nfiltered_mean_x_manual = filtered_means_manual[1, 0, :]\nfiltered_mean_y_manual = filtered_means_manual[4, 0, :]\nfiltered_mean_x_learned = filtered_means_learned[1, 0, :]\nfiltered_mean_y_learned = filtered_means_learned[4, 0, :]\n\nfiltered_ci_x_upper_manual = filtered_mean_x_manual + 1.96*filtered_std_x_y_manual[:, 1]\nfiltered_ci_x_lower_manual = filtered_mean_x_manual - 1.96*filtered_std_x_y_manual[:, 1]\nfiltered_ci_y_upper_manual= filtered_mean_y_manual + 1.96*filtered_std_x_y_manual[:, 4]\nfiltered_ci_y_lower_manual = filtered_mean_y_manual - 1.96*filtered_std_x_y_manual[:, 4]\nfiltered_ci_x_upper_learned = filtered_mean_x_learned + 1.96*filtered_std_x_y_learned[:, 1]\nfiltered_ci_x_lower_learned = filtered_mean_x_learned - 1.96*filtered_std_x_y_learned[:, 1]\nfiltered_ci_y_upper_learned= filtered_mean_y_learned + 1.96*filtered_std_x_y_learned[:, 4]\nfiltered_ci_y_lower_learned = filtered_mean_y_learned - 1.96*filtered_std_x_y_learned[:, 4]\n\nfig = get_fig_kinematics_vs_time(\n    time=time,\n    measured_x=measured_x, measured_y=measured_y,\n    finite_diff_x=finite_diff_x, finite_diff_y=finite_diff_y,\n    manual_mean_x=filtered_mean_x_manual, manual_mean_y=filtered_mean_y_manual,\n    manual_ci_x_upper=filtered_ci_x_upper_manual,\n    manual_ci_y_upper=filtered_ci_y_upper_manual,\n    manual_ci_x_lower=filtered_ci_x_lower_manual,\n    manual_ci_y_lower=filtered_ci_y_lower_manual,\n    learned_mean_x=filtered_mean_x_learned, learned_mean_y=filtered_mean_y_learned,\n    learned_ci_x_upper=filtered_ci_x_upper_learned,\n    learned_ci_y_upper=filtered_ci_y_upper_learned,\n    learned_ci_x_lower=filtered_ci_x_lower_learned,\n    learned_ci_y_lower=filtered_ci_y_lower_learned,\n    cb_alpha=cb_alpha,\n    color_true=color_true, color_measured=color_measured,\n    color_finite_diff=color_finite_diff,\n    color_manual_pattern=color_manual_pattern,\n    color_learned_pattern=color_learned_pattern,\n    xlabel=\"Time (sec)\", ylabel=\"Velocity (pixels/sec)\")\nfig"
      ]
    },
    {
      "cell_type": "markdown",
      "metadata": {},
      "source": [
        "### Velocities smoothed\n\n"
      ]
    },
    {
      "cell_type": "code",
      "execution_count": null,
      "metadata": {
        "collapsed": false
      },
      "outputs": [],
      "source": [
        "measured_x = None\nmeasured_y = None\nfinite_diff_x = np.diff(y[0, :])/dt\nfinite_diff_y = np.diff(y[1, :])/dt\n\nsmoothed_mean_x_manual = smoothed_means_manual[1, 0, :]\nsmoothed_mean_y_manual = smoothed_means_manual[4, 0, :]\nsmoothed_mean_x_learned = smoothed_means_learned[1, 0, :]\nsmoothed_mean_y_learned = smoothed_means_learned[4, 0, :]\n\nsmoothed_ci_x_upper_manual = smoothed_mean_x_manual + 1.96*smoothed_std_x_y_manual[:, 1]\nsmoothed_ci_x_lower_manual = smoothed_mean_x_manual - 1.96*smoothed_std_x_y_manual[:, 1]\nsmoothed_ci_y_upper_manual= smoothed_mean_y_manual + 1.96*smoothed_std_x_y_manual[:, 4]\nsmoothed_ci_y_lower_manual = smoothed_mean_y_manual - 1.96*smoothed_std_x_y_manual[:, 4]\n\nsmoothed_ci_x_upper_learned = smoothed_mean_x_learned + 1.96*smoothed_std_x_y_learned[:, 1]\nsmoothed_ci_x_lower_learned = smoothed_mean_x_learned - 1.96*smoothed_std_x_y_learned[:, 1]\nsmoothed_ci_y_upper_learned= smoothed_mean_y_learned + 1.96*smoothed_std_x_y_learned[:, 4]\nsmoothed_ci_y_lower_learned = smoothed_mean_y_learned - 1.96*smoothed_std_x_y_learned[:, 4]\n\nfig = get_fig_kinematics_vs_time(\n    time=time,\n    measured_x=measured_x, measured_y=measured_y,\n    finite_diff_x=finite_diff_x, finite_diff_y=finite_diff_y,\n    manual_mean_x=smoothed_mean_x_manual, manual_mean_y=smoothed_mean_y_manual,\n    manual_ci_x_upper=smoothed_ci_x_upper_manual,\n    manual_ci_y_upper=smoothed_ci_y_upper_manual,\n    manual_ci_x_lower=smoothed_ci_x_lower_manual,\n    manual_ci_y_lower=smoothed_ci_y_lower_manual,\n    learned_mean_x=smoothed_mean_x_learned, learned_mean_y=smoothed_mean_y_learned,\n    learned_ci_x_upper=smoothed_ci_x_upper_learned,\n    learned_ci_y_upper=smoothed_ci_y_upper_learned,\n    learned_ci_x_lower=smoothed_ci_x_lower_learned,\n    learned_ci_y_lower=smoothed_ci_y_lower_learned,\n    cb_alpha=cb_alpha,\n    color_true=color_true, color_measured=color_measured,\n    color_finite_diff=color_finite_diff,\n    color_manual_pattern=color_manual_pattern,\n    color_learned_pattern=color_learned_pattern,\n    xlabel=\"Time (sec)\", ylabel=\"Velocity (pixels/sec)\")\nfig"
      ]
    },
    {
      "cell_type": "markdown",
      "metadata": {},
      "source": [
        "### Accelerations filtered\n\n"
      ]
    },
    {
      "cell_type": "code",
      "execution_count": null,
      "metadata": {
        "collapsed": false
      },
      "outputs": [],
      "source": [
        "measured_x = None\nmeasured_y = None\nfinite_diff_x = np.diff(np.diff(y[0, :]))/dt**2\nfinite_diff_y = np.diff(np.diff(y[1, :]))/dt**2\n\nfiltered_mean_x_manual = filtered_means_manual[2, 0, :]\nfiltered_mean_y_manual = filtered_means_manual[5, 0, :]\nfiltered_mean_x_learned = filtered_means_learned[2, 0, :]\nfiltered_mean_y_learned = filtered_means_learned[5, 0, :]\n\nfiltered_ci_x_upper_manual = filtered_mean_x_manual + 1.96*filtered_std_x_y_manual[:, 2]\nfiltered_ci_x_lower_manual = filtered_mean_x_manual - 1.96*filtered_std_x_y_manual[:, 2]\nfiltered_ci_y_upper_manual = filtered_mean_y_manual + 1.96*filtered_std_x_y_manual[:, 5]\nfiltered_ci_y_lower_manual = filtered_mean_y_manual - 1.96*filtered_std_x_y_manual[:, 5]\n\nfiltered_ci_x_upper_learned = filtered_mean_x_learned + 1.96*filtered_std_x_y_learned[:, 2]\nfiltered_ci_x_lower_learned = filtered_mean_x_learned - 1.96*filtered_std_x_y_learned[:, 2]\nfiltered_ci_y_upper_learned = filtered_mean_y_learned + 1.96*filtered_std_x_y_learned[:, 5]\nfiltered_ci_y_lower_learned = filtered_mean_y_learned - 1.96*filtered_std_x_y_learned[:, 5]\n\nfig = get_fig_kinematics_vs_time(\n    time=time,\n    measured_x=measured_x, measured_y=measured_y,\n    finite_diff_x=finite_diff_x, finite_diff_y=finite_diff_y,\n    manual_mean_x=filtered_mean_x_manual, manual_mean_y=filtered_mean_y_manual,\n    manual_ci_x_upper=filtered_ci_x_upper_manual,\n    manual_ci_y_upper=filtered_ci_y_upper_manual,\n    manual_ci_x_lower=filtered_ci_x_lower_manual,\n    manual_ci_y_lower=filtered_ci_y_lower_manual,\n    learned_mean_x=filtered_mean_x_learned, learned_mean_y=filtered_mean_y_learned,\n    learned_ci_x_upper=filtered_ci_x_upper_learned,\n    learned_ci_y_upper=filtered_ci_y_upper_learned,\n    learned_ci_x_lower=filtered_ci_x_lower_learned,\n    learned_ci_y_lower=filtered_ci_y_lower_learned,\n    cb_alpha=cb_alpha,\n    color_true=color_true, color_measured=color_measured,\n    color_finite_diff=color_finite_diff,\n    color_manual_pattern=color_manual_pattern,\n    color_learned_pattern=color_learned_pattern,\n    xlabel=\"Time (sec)\", ylabel=\"Acceleration (pixels/sec^2)\")\nfig"
      ]
    },
    {
      "cell_type": "markdown",
      "metadata": {},
      "source": [
        "### Accelerations smoothed\n\n"
      ]
    },
    {
      "cell_type": "code",
      "execution_count": null,
      "metadata": {
        "collapsed": false
      },
      "outputs": [],
      "source": [
        "measured_x = None\nmeasured_y = None\nfinite_diff_x = np.diff(np.diff(y[0, :]))/dt**2\nfinite_diff_y = np.diff(np.diff(y[1, :]))/dt**2\n\nsmoothed_mean_x_manual = smoothed_means_manual[2, 0, :]\nsmoothed_mean_y_manual = smoothed_means_manual[5, 0, :]\nsmoothed_mean_x_learned = smoothed_means_learned[2, 0, :]\nsmoothed_mean_y_learned = smoothed_means_learned[5, 0, :]\n\nsmoothed_ci_x_upper_manual = smoothed_mean_x_manual + 1.96*smoothed_std_x_y_manual[:, 2]\nsmoothed_ci_x_lower_manual = smoothed_mean_x_manual - 1.96*smoothed_std_x_y_manual[:, 2]\nsmoothed_ci_y_upper_manual = smoothed_mean_y_manual + 1.96*smoothed_std_x_y_manual[:, 5]\nsmoothed_ci_y_lower_manual = smoothed_mean_y_manual - 1.96*smoothed_std_x_y_manual[:, 5]\n\nsmoothed_ci_x_upper_learned = smoothed_mean_x_learned + 1.96*smoothed_std_x_y_learned[:, 2]\nsmoothed_ci_x_lower_learned = smoothed_mean_x_learned - 1.96*smoothed_std_x_y_learned[:, 2]\nsmoothed_ci_y_upper_learned = smoothed_mean_y_learned + 1.96*smoothed_std_x_y_learned[:, 5]\nsmoothed_ci_y_lower_learned = smoothed_mean_y_learned - 1.96*smoothed_std_x_y_learned[:, 5]\n\nfig = get_fig_kinematics_vs_time(\n    time=time,\n    measured_x=measured_x, measured_y=measured_y,\n    finite_diff_x=finite_diff_x, finite_diff_y=finite_diff_y,\n    manual_mean_x=smoothed_mean_x_manual, manual_mean_y=smoothed_mean_y_manual,\n    manual_ci_x_upper=smoothed_ci_x_upper_manual,\n    manual_ci_y_upper=smoothed_ci_y_upper_manual,\n    manual_ci_x_lower=smoothed_ci_x_lower_manual,\n    manual_ci_y_lower=smoothed_ci_y_lower_manual,\n    learned_mean_x=smoothed_mean_x_learned, learned_mean_y=smoothed_mean_y_learned,\n    learned_ci_x_upper=smoothed_ci_x_upper_learned,\n    learned_ci_y_upper=smoothed_ci_y_upper_learned,\n    learned_ci_x_lower=smoothed_ci_x_lower_learned,\n    learned_ci_y_lower=smoothed_ci_y_lower_learned,\n    cb_alpha=cb_alpha,\n    color_true=color_true, color_measured=color_measured,\n    color_finite_diff=color_finite_diff,\n    color_manual_pattern=color_manual_pattern,\n    color_learned_pattern=color_learned_pattern,\n    xlabel=\"Time (sec)\", ylabel=\"Acceleration (pixels/sec^2)\")\nfig"
      ]
    }
  ],
  "metadata": {
    "kernelspec": {
      "display_name": "Python 3",
      "language": "python",
      "name": "python3"
    },
    "language_info": {
      "codemirror_mode": {
        "name": "ipython",
        "version": 3
      },
      "file_extension": ".py",
      "mimetype": "text/x-python",
      "name": "python",
      "nbconvert_exporter": "python",
      "pygments_lexer": "ipython3",
      "version": "3.9.18"
    }
  },
  "nbformat": 4,
  "nbformat_minor": 0
}