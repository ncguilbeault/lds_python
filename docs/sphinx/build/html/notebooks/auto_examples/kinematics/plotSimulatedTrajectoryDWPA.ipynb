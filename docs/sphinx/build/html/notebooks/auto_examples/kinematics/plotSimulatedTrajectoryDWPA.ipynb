{
  "cells": [
    {
      "cell_type": "code",
      "execution_count": null,
      "metadata": {
        "collapsed": false
      },
      "outputs": [],
      "source": [
        "%matplotlib inline"
      ]
    },
    {
      "cell_type": "markdown",
      "metadata": {},
      "source": [
        "\n# Sampling from a Discrete Wiener Process Acceleration Model\n\nThe code below samples from a Discrete Wiener Process Acceleration (DWPA)\nmodel.\n"
      ]
    },
    {
      "cell_type": "markdown",
      "metadata": {},
      "source": [
        "## Import packages\n\n"
      ]
    },
    {
      "cell_type": "code",
      "execution_count": null,
      "metadata": {
        "collapsed": false
      },
      "outputs": [],
      "source": [
        "import numpy as np\nimport plotly.graph_objs as go\n\nimport ssm.tracking.utils\nimport ssm.simulation"
      ]
    },
    {
      "cell_type": "markdown",
      "metadata": {},
      "source": [
        "## Set initial conditions and parameters\n\n"
      ]
    },
    {
      "cell_type": "code",
      "execution_count": null,
      "metadata": {
        "collapsed": false
      },
      "outputs": [],
      "source": [
        "pos_x0 = 0.0\npos_y0 = 0.0\nvel_x0 = 0.0\nvel_y0 = 0.0\nace_x0 = 0.0\nace_y0 = 0.0\ndt = 1e-3\nnum_pos = 1000\nsigma_a = 1.0\nsigma_x = 1.0\nsigma_y = 1.0\nsqrt_diag_V0_value = 1e-03"
      ]
    },
    {
      "cell_type": "markdown",
      "metadata": {},
      "source": [
        "## Set LDS parameters\n\n"
      ]
    },
    {
      "cell_type": "code",
      "execution_count": null,
      "metadata": {
        "collapsed": false
      },
      "outputs": [],
      "source": [
        "B, Q, Qe, Z, R = ssm.tracking.utils.getLDSmatricesForKinematics_np(\n    dt=dt, sigma_a=sigma_a, pos_x_R_std=sigma_x, pos_y_R_std=sigma_y)\nR = np.diag([sigma_x**2, sigma_y**2])\nm0 = np.array([pos_x0, vel_x0, ace_x0, pos_y0, vel_y0, ace_y0],\n              dtype=np.double)\nV0 = np.diag(np.ones(len(m0))*sqrt_diag_V0_value**2)"
      ]
    },
    {
      "cell_type": "markdown",
      "metadata": {},
      "source": [
        "## Sample from the LDS\nView source code of [ssm.simulation.simulateLDS](https://joacorapela.github.io/ssm/_modules/ssm/simulation.html#simulateLDS)\n\n"
      ]
    },
    {
      "cell_type": "code",
      "execution_count": null,
      "metadata": {
        "collapsed": false
      },
      "outputs": [],
      "source": [
        "x0, x, y = ssm.simulation.simulateLDS(T=num_pos, B=B, Q=Q, Z=Z, R=R, m0=m0,\n                                      V0=V0)"
      ]
    },
    {
      "cell_type": "markdown",
      "metadata": {},
      "source": [
        "## Plot state positions and measurements\n\n"
      ]
    },
    {
      "cell_type": "code",
      "execution_count": null,
      "metadata": {
        "collapsed": false
      },
      "outputs": [],
      "source": [
        "fig = go.Figure()\ntrace_x = go.Scatter(x=x[0, :], y=x[3, :], mode=\"markers\",\n                     showlegend=True, name=\"state position\")\ntrace_y = go.Scatter(x=y[0, :], y=y[1, :], mode=\"markers\",\n                     showlegend=True, name=\"measured position\", opacity=0.3)\ntrace_start = go.Scatter(x=[x0[0]], y=[x0[3]], mode=\"markers\",\n                         text=\"initial state position\", marker={\"size\": 7},\n                         showlegend=False)\nfig.add_trace(trace_x)\nfig.add_trace(trace_y)\nfig.add_trace(trace_start)\n# fig_filename_pattern = \"../../figures/simulated_pos.{:s}\"\n# fig.write_image(fig_filename_pattern.format(\"png\"))\n# fig.write_html(fig_filename_pattern.format(\"html\"))\nfig"
      ]
    }
  ],
  "metadata": {
    "kernelspec": {
      "display_name": "Python 3",
      "language": "python",
      "name": "python3"
    },
    "language_info": {
      "codemirror_mode": {
        "name": "ipython",
        "version": 3
      },
      "file_extension": ".py",
      "mimetype": "text/x-python",
      "name": "python",
      "nbconvert_exporter": "python",
      "pygments_lexer": "ipython3",
      "version": "3.9.18"
    }
  },
  "nbformat": 4,
  "nbformat_minor": 0
}