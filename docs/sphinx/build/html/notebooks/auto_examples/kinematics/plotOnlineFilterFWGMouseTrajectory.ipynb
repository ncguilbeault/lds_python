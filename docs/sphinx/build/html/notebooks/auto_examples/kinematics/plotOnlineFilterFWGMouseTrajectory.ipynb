{
  "cells": [
    {
      "cell_type": "code",
      "execution_count": null,
      "metadata": {
        "collapsed": false
      },
      "outputs": [],
      "source": [
        "%matplotlib inline"
      ]
    },
    {
      "cell_type": "markdown",
      "metadata": {},
      "source": [
        "\n# Online filtering of a foraging mouse trajectory\n\nThe code below performs online Kalman filtering of a trajectory of the mouse\nshown on the left image below, as it forages in the arena shown on the right\nimage below. Click on the images to see their larger versions.\n\n<img src=\"file://_static/mouseOnWheel.png\" width=\"300\" alt=\"image of mouse on wheel\">\n\n<img src=\"file://_static/foragingMouse.png\" width=\"300\" alt=\"image of foraging mouse\">\n"
      ]
    },
    {
      "cell_type": "markdown",
      "metadata": {},
      "source": [
        "## Import packages\n\n"
      ]
    },
    {
      "cell_type": "code",
      "execution_count": null,
      "metadata": {
        "collapsed": false
      },
      "outputs": [],
      "source": [
        "import sys\nimport os\nimport random\nimport pickle\nimport configparser\nimport numpy as np\nimport pandas as pd\nimport plotly.graph_objects as go\n\nimport ssm.tracking.utils\nimport ssm.inference"
      ]
    },
    {
      "cell_type": "markdown",
      "metadata": {},
      "source": [
        "## Setup configuration variables\n\n"
      ]
    },
    {
      "cell_type": "code",
      "execution_count": null,
      "metadata": {
        "collapsed": false
      },
      "outputs": [],
      "source": [
        "start_position = 0\nnumber_positions = 10000\ncolor_measures = \"black\"\ncolor_pattern_filtered = \"rgba(255,0,0,{:f})\"\ncb_alpha = 0.3\ndata_filename = \"http://www.gatsby.ucl.ac.uk/~rapela/svGPFA/data/positions_session003_start0.00_end15548.27.csv\""
      ]
    },
    {
      "cell_type": "markdown",
      "metadata": {},
      "source": [
        "## Get the mouse position measurements\n\n"
      ]
    },
    {
      "cell_type": "code",
      "execution_count": null,
      "metadata": {
        "collapsed": false
      },
      "outputs": [],
      "source": [
        "data = pd.read_csv(data_filename)\ndata = data.iloc[start_position:start_position+number_positions,:]\ny = np.transpose(data[[\"x\", \"y\"]].to_numpy())"
      ]
    },
    {
      "cell_type": "markdown",
      "metadata": {},
      "source": [
        "## Get the Kalman filter configuration parameters\n\n"
      ]
    },
    {
      "cell_type": "code",
      "execution_count": null,
      "metadata": {
        "collapsed": false
      },
      "outputs": [],
      "source": [
        "pos_x0 = y[0, 0]\npos_y0 = y[0, 0]\nvel_x0 = 0.0\nvel_y0 = 0.0\nacc_x0 = 0.0\nacc_y0 = 0.0\nsigma_a = 1e4\nsigma_x = 1e2\nsigma_y = 1e2\nsqrt_diag_V0_value = 1e-3"
      ]
    },
    {
      "cell_type": "markdown",
      "metadata": {},
      "source": [
        "## Build the Kalman filter matrices for tracking\n\n"
      ]
    },
    {
      "cell_type": "code",
      "execution_count": null,
      "metadata": {
        "collapsed": false
      },
      "outputs": [],
      "source": [
        "date_times = pd.to_datetime(data[\"time\"])\ndt = (date_times.iloc[1]-date_times.iloc[0]).total_seconds()\nB, Q, Qe, Z, R = ssm.tracking.utils.getLDSmatricesForKinematics_np(\n    dt=dt, sigma_a=sigma_a, pos_x_R_std=sigma_x, pos_y_R_std=sigma_y)\nm0 = np.array([[y[0, 0], 0, 0, y[1, 0], 0, 0]], dtype=np.double).T\nV0 = np.diag(np.ones(len(m0))*sqrt_diag_V0_value**2)"
      ]
    },
    {
      "cell_type": "markdown",
      "metadata": {},
      "source": [
        "## Apply the Kalman filter to the mouse position measurements\n\n"
      ]
    },
    {
      "cell_type": "code",
      "execution_count": null,
      "metadata": {
        "collapsed": false
      },
      "outputs": [],
      "source": [
        "onlineKF = ssm.inference.OnlineKalmanFilter(B=B, Q=Q, m0=m0, V0=V0, Z=Z, R=R)\nfiltered_means = np.empty((6, 1, y.shape[1]), dtype=np.double)\nfiltered_covs = np.empty((6, 6, y.shape[1]), dtype=np.double)\nfor i in range(y.shape[1]):\n    _, _ = onlineKF.predict()\n    filtered_means[:, :, i], filtered_covs[:, :, i] = \\\n        onlineKF.update(y=y[:, i])"
      ]
    },
    {
      "cell_type": "markdown",
      "metadata": {},
      "source": [
        "## Plot the filtered positions with their 95% confidence bands\n\n"
      ]
    },
    {
      "cell_type": "code",
      "execution_count": null,
      "metadata": {
        "collapsed": false
      },
      "outputs": [],
      "source": [
        "time = (pd.to_datetime(data[\"time\"]) - pd.to_datetime(data[\"time\"][0])).dt.total_seconds().to_numpy()\nfilter_mean_x = filtered_means[0, 0, :]\nfilter_mean_y = filtered_means[3, 0, :]\nfilter_std_x_y = np.sqrt(np.diagonal(a=filtered_covs, axis1=0, axis2=1))\n\nfilter_ci_x_upper = filter_mean_x + 1.96*filter_std_x_y[:, 0]\nfilter_ci_x_lower = filter_mean_x - 1.96*filter_std_x_y[:, 0]\nfilter_ci_y_upper = filter_mean_y + 1.96*filter_std_x_y[:, 3]\nfilter_ci_y_lower = filter_mean_y - 1.96*filter_std_x_y[:, 3]\n\nfig = go.Figure()\ntrace_mes_x = go.Scatter(\n                x=time, y=y[0, :],\n                mode=\"markers\",\n                marker={\"color\": color_measures},\n                name=\"measured x\",\n                showlegend=True,\n            )\ntrace_mes_y = go.Scatter(\n                x=time, y=y[1, :],\n                mode=\"markers\",\n                marker={\"color\": color_measures},\n                name=\"measured y\",\n                showlegend=True,\n            )\ntrace_filter_x = go.Scatter(\n                x=time, y=filter_mean_x,\n                mode=\"markers\",\n                marker={\"color\": color_pattern_filtered.format(1.0)},\n                name=\"filtered x\",\n                showlegend=True,\n                legendgroup=\"filtered_x\",\n            )\ntrace_filter_x_cb = go.Scatter(\n                x=np.concatenate([time, time[::-1]]),\n                y=np.concatenate([filter_ci_x_upper,\n                                  filter_ci_x_lower[::-1]]),\n                fill=\"toself\",\n                fillcolor=color_pattern_filtered.format(cb_alpha),\n                line=dict(color=color_pattern_filtered.format(0.0)),\n                showlegend=False,\n                legendgroup=\"filtered_x\",\n            )\ntrace_filter_y = go.Scatter(\n                x=time, y=filter_mean_y,\n                mode=\"markers\",\n                marker={\"color\":\n                        color_pattern_filtered.format(1.0)},\n                name=\"filtered y\",\n                showlegend=True,\n                legendgroup=\"filtered_y\",\n            )\ntrace_filter_y_cb = go.Scatter(\n                x=np.concatenate([time, time[::-1]]),\n                y=np.concatenate([filter_ci_y_upper,\n                                  filter_ci_y_lower[::-1]]),\n                fill=\"toself\",\n                fillcolor=color_pattern_filtered.format(cb_alpha),\n                line=dict(color=color_pattern_filtered.format(0.0)),\n                showlegend=False,\n                legendgroup=\"filtered_y\",\n            )\nfig.add_trace(trace_mes_x)\nfig.add_trace(trace_mes_y)\nfig.add_trace(trace_filter_x)\nfig.add_trace(trace_filter_x_cb)\nfig.add_trace(trace_filter_y)\nfig.add_trace(trace_filter_y_cb)\n\nfig.update_layout(xaxis_title=\"time (seconds)\", yaxis_title=\"position (pixels)\",\n                  paper_bgcolor='rgba(0,0,0,0)', plot_bgcolor='rgba(0,0,0,0)',\n                  yaxis_range=[filter_mean_x.min(), filter_mean_x.max()])\nfig"
      ]
    }
  ],
  "metadata": {
    "kernelspec": {
      "display_name": "Python 3",
      "language": "python",
      "name": "python3"
    },
    "language_info": {
      "codemirror_mode": {
        "name": "ipython",
        "version": 3
      },
      "file_extension": ".py",
      "mimetype": "text/x-python",
      "name": "python",
      "nbconvert_exporter": "python",
      "pygments_lexer": "ipython3",
      "version": "3.9.18"
    }
  },
  "nbformat": 4,
  "nbformat_minor": 0
}