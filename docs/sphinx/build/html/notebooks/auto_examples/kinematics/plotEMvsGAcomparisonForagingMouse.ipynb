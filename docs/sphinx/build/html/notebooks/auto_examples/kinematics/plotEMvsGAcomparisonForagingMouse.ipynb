{
  "cells": [
    {
      "cell_type": "code",
      "execution_count": null,
      "metadata": {
        "collapsed": false
      },
      "outputs": [],
      "source": [
        "%matplotlib inline"
      ]
    },
    {
      "cell_type": "markdown",
      "metadata": {},
      "source": [
        "\n# Comparison between EM and gradient ascent for tracking a foraging mouse\n\nThe code below compares the expectation maximization (EM) and gradient ascent\nalgorithm for tracking a foraging mouse.\n"
      ]
    },
    {
      "cell_type": "code",
      "execution_count": null,
      "metadata": {
        "collapsed": false
      },
      "outputs": [],
      "source": [
        "import sys\nimport os.path\nimport argparse\nimport configparser\nimport math\nimport random\nimport pickle\nimport numpy as np\nimport pandas as pd\nimport torch\nimport scipy\nimport plotly.graph_objects as go\n\nimport ssm.learning"
      ]
    },
    {
      "cell_type": "markdown",
      "metadata": {},
      "source": [
        "## Define parameters for estimation\n\n"
      ]
    },
    {
      "cell_type": "code",
      "execution_count": null,
      "metadata": {
        "collapsed": false
      },
      "outputs": [],
      "source": [
        "skip_estimation_sigma_a = False\nskip_estimation_R = False\nskip_estimation_m0 = False\nskip_estimation_V0 = False\n\nstart_position = 0\n# number_positions = 10000\n# number_positions = 7500\nnumber_positions = 50\nlbfgs_max_iter = 2\nlbfgs_tolerance_grad = -1\nlbfgs_tolerance_change = 1e-3\nlbfgs_lr = 1.0\nlbfgs_n_epochs = 100\nlbfgs_tol = 1e-3\nem_max_iter = 200\nQe_reg_param_ga = None\nQe_reg_param_em = 1e-5"
      ]
    },
    {
      "cell_type": "markdown",
      "metadata": {},
      "source": [
        "## Provide initial conditions\n\n"
      ]
    },
    {
      "cell_type": "code",
      "execution_count": null,
      "metadata": {
        "collapsed": false
      },
      "outputs": [],
      "source": [
        "pos_x0 = 0.0\npos_y0 = 0.0\nvel_x0 = 0.0\nvel_y0 = 0.0\nace_x0 = 0.0\nace_y0 = 0.0\nsigma_a0 = 1.0\nsigma_x0 = 1.0\nsigma_y0 = 1.0\nsqrt_diag_V0_value = 0.1\n\nif math.isnan(pos_x0):\n    pos_x0 = y[0, 0]\nif math.isnan(pos_y0):\n    pos_y0 = y[1, 0]"
      ]
    },
    {
      "cell_type": "markdown",
      "metadata": {},
      "source": [
        "## Get mouse positions\n\n"
      ]
    },
    {
      "cell_type": "code",
      "execution_count": null,
      "metadata": {
        "collapsed": false
      },
      "outputs": [],
      "source": [
        "data_filename = \"http://www.gatsby.ucl.ac.uk/~rapela/svGPFA/data/positions_session003_start0.00_end15548.27.csv\"\ndata = pd.read_csv(data_filename)\ndata = data.iloc[start_position:start_position+number_positions,:]\ny = np.transpose(data[[\"x\", \"y\"]].to_numpy())\ndate_times = pd.to_datetime(data[\"time\"])\ndt = (date_times.iloc[1]-date_times.iloc[0]).total_seconds()"
      ]
    },
    {
      "cell_type": "markdown",
      "metadata": {},
      "source": [
        "## Build the matrices of the CWPA model\n\n"
      ]
    },
    {
      "cell_type": "code",
      "execution_count": null,
      "metadata": {
        "collapsed": false
      },
      "outputs": [],
      "source": [
        "B, _, Qe, Z, _ = ssm.tracking.utils.getLDSmatricesForKinematics_np(\n    dt=dt, sigma_a=np.nan, pos_x_R_std=np.nan, pos_y_R_std=np.nan)\nm0 = np.array([pos_x0, vel_x0, ace_x0, pos_y0, vel_y0, ace_y0],\n              dtype=np.double)\n\nvars_to_estimate = {}\nif skip_estimation_sigma_a:\n    vars_to_estimate[\"sigma_a\"] = False\nelse:\n    vars_to_estimate[\"sigma_a\"] = True\n\nif skip_estimation_R:\n    vars_to_estimate[\"pos_x_R_std\"] = False\n    vars_to_estimate[\"pos_y_R_std\"] = False\n    vars_to_estimate[\"R\"] = False\nelse:\n    vars_to_estimate[\"pos_x_R_std\"] = True\n    vars_to_estimate[\"pos_y_R_std\"] = True\n    vars_to_estimate[\"R\"] = True\n\nif skip_estimation_m0:\n    vars_to_estimate[\"m0\"] = False\nelse:\n    vars_to_estimate[\"m0\"] = True\n\nif skip_estimation_V0:\n    vars_to_estimate[\"sqrt_diag_V0\"] = False\n    vars_to_estimate[\"V0\"] = False\nelse:\n    vars_to_estimate[\"sqrt_diag_V0\"] = True\n    vars_to_estimate[\"V0\"] = True"
      ]
    },
    {
      "cell_type": "markdown",
      "metadata": {},
      "source": [
        "## Perform gradient ascent optimization\n\n"
      ]
    },
    {
      "cell_type": "code",
      "execution_count": null,
      "metadata": {
        "collapsed": false
      },
      "outputs": [],
      "source": [
        "sqrt_diag_R_torch = torch.DoubleTensor([sigma_x0, sigma_y0])\nm0_torch = torch.from_numpy(m0.copy())\nsqrt_diag_V0_torch = torch.DoubleTensor([sqrt_diag_V0_value\n                                         for i in range(len(m0))])\nif Qe_reg_param_ga is not None:\n    Qe_regularized_ga = Qe + Qe_reg_param_ga * np.eye(Qe.shape[0])\nelse:\n    Qe_regularized_ga = Qe\ny_torch = torch.from_numpy(y.astype(np.double))\nB_torch = torch.from_numpy(B.astype(np.double))\nQe_regularized_ga_torch = torch.from_numpy(Qe_regularized_ga.astype(np.double))\nZ_torch = torch.from_numpy(Z.astype(np.double))\n\noptim_res_ga = ssm.learning.torch_lbfgs_optimize_SS_tracking_diagV0(\n    y=y_torch, B=B_torch, Qe=Qe_regularized_ga_torch, Z=Z_torch,\n    sigma_a0=sigma_a0, pos_x_R_std0=sigma_x0, pos_y_R_std0=sigma_y0, m0_0=m0_torch,\n    sqrt_diag_V0_0=sqrt_diag_V0_torch, max_iter=lbfgs_max_iter, lr=lbfgs_lr,\n    vars_to_estimate=vars_to_estimate, tolerance_grad=lbfgs_tolerance_grad,\n    tolerance_change=lbfgs_tolerance_change, n_epochs=lbfgs_n_epochs,\n    tol=lbfgs_tol)\n\nprint(\"gradient ascent: \" + optim_res_ga[\"termination_info\"])"
      ]
    },
    {
      "cell_type": "markdown",
      "metadata": {},
      "source": [
        "## Perform EM optimization\n\n"
      ]
    },
    {
      "cell_type": "code",
      "execution_count": null,
      "metadata": {
        "collapsed": false
      },
      "outputs": [],
      "source": [
        "sqrt_diag_R = np.array([sigma_x0, sigma_y0])\nR_0 = np.diag(sqrt_diag_R)\nm0_0 = m0\nsqrt_diag_V0 = np.array([sqrt_diag_V0_value for i in range(len(m0))])\nV0_0 = np.diag(sqrt_diag_V0)\n\ntimes = np.arange(0, y.shape[1]*dt, dt)\nnot_nan_indices_y0 = set(np.where(np.logical_not(np.isnan(y[0, :])))[0])\nnot_nan_indices_y1 = set(np.where(np.logical_not(np.isnan(y[1, :])))[0])\nnot_nan_indices = np.array(sorted(not_nan_indices_y0.union(not_nan_indices_y1)))\ny_no_nan = y[:, not_nan_indices]\nt_no_nan = times[not_nan_indices]\ny_interpolated = np.empty_like(y)\ntck, u = scipy.interpolate.splprep([y_no_nan[0, :], y_no_nan[1, :]], s=0, u=t_no_nan)\ny_interpolated[0, :], y_interpolated[1, :] = scipy.interpolate.splev(times, tck)\n\nif Qe_reg_param_em is not None:\n    Qe_regularized_em = Qe + Qe_reg_param_em * np.eye(Qe.shape[0])\nelse:\n    Qe_regularized_em = Qe\n\noptim_res_em  = ssm.learning.em_SS_tracking(\n    y=y_interpolated, B=B, sigma_a0=sigma_a0,\n    Qe=Qe_regularized_em, Z=Z, R_0=R_0, m0_0=m0_0, V0_0=V0_0,\n    vars_to_estimate=vars_to_estimate,\n    max_iter=em_max_iter)\n\nprint(\"EM: \" + optim_res_em[\"termination_info\"])"
      ]
    },
    {
      "cell_type": "markdown",
      "metadata": {},
      "source": [
        "## Plot convergence\n\n"
      ]
    },
    {
      "cell_type": "code",
      "execution_count": null,
      "metadata": {
        "collapsed": false
      },
      "outputs": [],
      "source": [
        "fig = go.Figure()\ntrace = go.Scatter(x=optim_res_ga[\"elapsed_time\"], y=optim_res_ga[\"log_like\"],\n                  name=\"Gradient ascent\", mode=\"lines+markers\")\nfig.add_trace(trace)\ntrace = go.Scatter(x=optim_res_em[\"elapsed_time\"], y=optim_res_em[\"log_like\"],\n                   name=\"EM\", mode=\"lines+markers\")\nfig.add_trace(trace)\nfig.update_layout(xaxis_title=\"Elapsed Time (sec)\",\n                  yaxis_title=\"Log Likelihood\")\nfig"
      ]
    },
    {
      "cell_type": "markdown",
      "metadata": {},
      "source": [
        "## Perform smoothing with optimized parameters\n\n"
      ]
    },
    {
      "cell_type": "markdown",
      "metadata": {},
      "source": [
        "### Gradient ascent\n\n"
      ]
    },
    {
      "cell_type": "markdown",
      "metadata": {},
      "source": [
        "#### Perform batch filtering\nView source code of [ssm.inference.filterLDS_SS_withMissingValues_np](https://joacorapela.github.io/ssm/_modules/ssm/inference.html#filterLDS_SS_withMissingValues_np)\n\n"
      ]
    },
    {
      "cell_type": "code",
      "execution_count": null,
      "metadata": {
        "collapsed": false
      },
      "outputs": [],
      "source": [
        "Q_ga = optim_res_ga[\"estimates\"][\"sigma_a\"].item()**2*Qe\nm0_ga = optim_res_ga[\"estimates\"][\"m0\"].numpy()\nV0_ga = np.diag(optim_res_ga[\"estimates\"][\"sqrt_diag_V0\"].numpy()**2)\nR_ga = np.diag([optim_res_ga[\"estimates\"][\"pos_x_R_std\"].item()**2,\n                optim_res_ga[\"estimates\"][\"pos_y_R_std\"].item()**2])\n\nfilterRes_ga = ssm.inference.filterLDS_SS_withMissingValues_np(\n    y=y, B=B, Q=Q_ga, m0=m0_ga, V0=V0_ga, Z=Z, R=R_ga)"
      ]
    },
    {
      "cell_type": "markdown",
      "metadata": {},
      "source": [
        "#### Perform batch smoothing\nView source code of [ssm.inference.smoothLDS_SS](https://joacorapela.github.io/ssm/_modules/ssm/inference.html#smoothLDS_SS)\n\n"
      ]
    },
    {
      "cell_type": "code",
      "execution_count": null,
      "metadata": {
        "collapsed": false
      },
      "outputs": [],
      "source": [
        "smoothRes_ga = ssm.inference.smoothLDS_SS(\n    B=B, xnn=filterRes_ga[\"xnn\"], Pnn=filterRes_ga[\"Pnn\"],\n    xnn1=filterRes_ga[\"xnn1\"], Pnn1=filterRes_ga[\"Pnn1\"], m0=m0_ga, V0=V0_ga)"
      ]
    },
    {
      "cell_type": "markdown",
      "metadata": {},
      "source": [
        "### EM\n\n"
      ]
    },
    {
      "cell_type": "markdown",
      "metadata": {},
      "source": [
        "#### Perform batch filtering\nView source code of [ssm.inference.filterLDS_SS_withMissingValues_np](https://joacorapela.github.io/ssm/_modules/ssm/inference.html#filterLDS_SS_withMissingValues_np)\n\n"
      ]
    },
    {
      "cell_type": "code",
      "execution_count": null,
      "metadata": {
        "collapsed": false
      },
      "outputs": [],
      "source": [
        "Q_em = optim_res_em[\"estimates\"][\"sigma_a\"].item()**2*Qe\nm0_em = optim_res_em[\"estimates\"][\"m0\"]\nV0_em = optim_res_em[\"estimates\"][\"V0\"]\nR_em = optim_res_em[\"estimates\"][\"R\"]\n\nfilterRes_em = ssm.inference.filterLDS_SS_withMissingValues_np(\n    y=y, B=B, Q=Q_em, m0=m0_em, V0=V0_em, Z=Z, R=R_em)"
      ]
    },
    {
      "cell_type": "markdown",
      "metadata": {},
      "source": [
        "#### Perform batch smoothing\nView source code of [ssm.inference.smoothLDS_SS](https://joacorapela.github.io/ssm/_modules/ssm/inference.html#smoothLDS_SS)\n\n"
      ]
    },
    {
      "cell_type": "code",
      "execution_count": null,
      "metadata": {
        "collapsed": false
      },
      "outputs": [],
      "source": [
        "smoothRes_em = ssm.inference.smoothLDS_SS(\n    B=B, xnn=filterRes_em[\"xnn\"], Pnn=filterRes_em[\"Pnn\"],\n    xnn1=filterRes_em[\"xnn1\"], Pnn1=filterRes_em[\"Pnn1\"], m0=m0_em, V0=V0_em)"
      ]
    },
    {
      "cell_type": "markdown",
      "metadata": {},
      "source": [
        "## Plot smoothing results\n\n"
      ]
    },
    {
      "cell_type": "markdown",
      "metadata": {},
      "source": [
        "#### Define function for plotting\n\n"
      ]
    },
    {
      "cell_type": "code",
      "execution_count": null,
      "metadata": {
        "collapsed": false
      },
      "outputs": [],
      "source": [
        "def get_fig_kinematics_vs_time(\n    time,\n    measured_x, measured_y,\n    finite_diff_x, finite_diff_y,\n    ga_mean_x, ga_mean_y,\n    ga_ci_x_upper, ga_ci_y_upper,\n    ga_ci_x_lower, ga_ci_y_lower,\n    em_mean_x, em_mean_y,\n    em_ci_x_upper, em_ci_y_upper,\n    em_ci_x_lower, em_ci_y_lower,\n    cb_alpha,\n    color_true,\n    color_measured,\n    color_finite_diff,\n    color_ga_pattern,\n    color_em_pattern,\n    xlabel, ylabel):\n\n    fig = go.Figure()\n    if measured_x is not None:\n        trace_mes_x = go.Scatter(\n            x=time, y=measured_x,\n            mode=\"markers\",\n            marker={\"color\": color_measured},\n            name=\"measured x\",\n            showlegend=True,\n        )\n        fig.add_trace(trace_mes_x)\n    if measured_y is not None:\n        trace_mes_y = go.Scatter(\n            x=time, y=measured_y,\n            mode=\"markers\",\n            marker={\"color\": color_measured},\n            name=\"measured y\",\n            showlegend=True,\n        )\n        fig.add_trace(trace_mes_y)\n    if finite_diff_x is not None:\n        trace_fd_x = go.Scatter(\n            x=time, y=finite_diff_x,\n            mode=\"markers\",\n            marker={\"color\": color_finite_diff},\n            name=\"finite difference x\",\n            showlegend=True,\n        )\n        fig.add_trace(trace_fd_x)\n    if finite_diff_y is not None:\n        trace_fd_y = go.Scatter(\n            x=time, y=finite_diff_y,\n            mode=\"markers\",\n            marker={\"color\": color_finite_diff},\n            name=\"finite difference y\",\n            showlegend=True,\n        )\n        fig.add_trace(trace_fd_y)\n    trace_ga_x = go.Scatter(\n        x=time, y=ga_mean_x,\n        mode=\"markers\",\n        marker={\"color\": color_ga_pattern.format(1.0)},\n        name=\"grad. ascent x\",\n        showlegend=True,\n        legendgroup=\"ga_x\",\n    )\n    fig.add_trace(trace_ga_x)\n    trace_ga_x_cb = go.Scatter(\n        x=np.concatenate([time, time[::-1]]),\n        y=np.concatenate([ga_ci_x_upper, ga_ci_x_lower[::-1]]),\n        fill=\"toself\",\n        fillcolor=color_ga_pattern.format(cb_alpha),\n        line=dict(color=color_ga_pattern.format(0.0)),\n        showlegend=False,\n        legendgroup=\"ga_x\",\n    )\n    fig.add_trace(trace_ga_x_cb)\n    trace_ga_y = go.Scatter(\n        x=time, y=ga_mean_y,\n        mode=\"markers\",\n        marker={\"color\": color_ga_pattern.format(1.0)},\n        name=\"grad. ascent y\",\n        showlegend=True,\n        legendgroup=\"ga_y\",\n    )\n    fig.add_trace(trace_ga_y)\n    trace_ga_y_cb = go.Scatter(\n        x=np.concatenate([time, time[::-1]]),\n        y=np.concatenate([ga_ci_y_upper, ga_ci_y_lower[::-1]]),\n        fill=\"toself\",\n        fillcolor=color_ga_pattern.format(cb_alpha),\n        line=dict(color=color_ga_pattern.format(0.0)),\n        showlegend=False,\n        legendgroup=\"ga_y\",\n    )\n    fig.add_trace(trace_ga_y_cb)\n    trace_em_x = go.Scatter(\n        x=time, y=em_mean_x,\n        mode=\"markers\",\n        marker={\"color\": color_em_pattern.format(1.0)},\n        name=\"EM x\",\n        showlegend=True,\n        legendgroup=\"em_x\",\n    )\n    fig.add_trace(trace_em_x)\n    trace_em_x_cb = go.Scatter(\n        x=np.concatenate([time, time[::-1]]),\n        y=np.concatenate([em_ci_x_upper, em_ci_x_lower[::-1]]),\n        fill=\"toself\",\n        fillcolor=color_em_pattern.format(cb_alpha),\n        line=dict(color=color_em_pattern.format(0.0)),\n        showlegend=False,\n        legendgroup=\"em_x\",\n    )\n    fig.add_trace(trace_em_x_cb)\n    trace_em_y = go.Scatter(\n        x=time, y=em_mean_y,\n        mode=\"markers\",\n        marker={\"color\": color_em_pattern.format(1.0)},\n        name=\"EM y\",\n        showlegend=True,\n        legendgroup=\"em_y\",\n    )\n    fig.add_trace(trace_em_y)\n    trace_em_y_cb = go.Scatter(\n        x=np.concatenate([time, time[::-1]]),\n        y=np.concatenate([em_ci_y_upper, em_ci_y_lower[::-1]]),\n        fill=\"toself\",\n        fillcolor=color_em_pattern.format(cb_alpha),\n        line=dict(color=color_em_pattern.format(0.0)),\n        showlegend=False,\n        legendgroup=\"em_y\",\n    )\n    fig.add_trace(trace_em_y_cb)\n\n    fig.update_layout(xaxis_title=xlabel,\n                      yaxis_title=ylabel,\n                      paper_bgcolor='rgba(0,0,0,0)',\n                      plot_bgcolor='rgba(0,0,0,0)',\n                     )\n    return fig"
      ]
    },
    {
      "cell_type": "markdown",
      "metadata": {},
      "source": [
        "#### Set variables for plotting\n\n"
      ]
    },
    {
      "cell_type": "code",
      "execution_count": null,
      "metadata": {
        "collapsed": false
      },
      "outputs": [],
      "source": [
        "N = y.shape[1]\ntime = np.arange(0, N*dt, dt)\nsmoothed_means_ga = smoothRes_ga[\"xnN\"]\nsmoothed_covs_ga = smoothRes_ga[\"PnN\"]\nsmoothed_std_x_y_ga = np.sqrt(np.diagonal(a=smoothed_covs_ga, axis1=0, axis2=1))\nsmoothed_means_em = smoothRes_em[\"xnN\"]\nsmoothed_covs_em = smoothRes_em[\"PnN\"]\nsmoothed_std_x_y_em = np.sqrt(np.diagonal(a=smoothed_covs_em, axis1=0, axis2=1))\ncolor_true = \"blue\"\ncolor_measured = \"black\"\ncolor_finite_diff = \"blue\"\ncolor_ga_pattern = \"rgba(255,0,0,{:f})\"\ncolor_em_pattern = \"rgba(255,165,0,{:f})\"\ncb_alpha = 0.3"
      ]
    },
    {
      "cell_type": "markdown",
      "metadata": {},
      "source": [
        "### Gradient ascent\n\n"
      ]
    },
    {
      "cell_type": "markdown",
      "metadata": {},
      "source": [
        "#### Plot true, measured and smoothed positions (with 95% confidence band)\n\n"
      ]
    },
    {
      "cell_type": "code",
      "execution_count": null,
      "metadata": {
        "collapsed": false
      },
      "outputs": [],
      "source": [
        "measured_x = y[0, :]\nmeasured_y = y[1, :]\nfinite_diff_x = None\nfinite_diff_y = None\nsmoothed_mean_x_ga = smoothed_means_ga[0, 0, :]\nsmoothed_mean_y_ga = smoothed_means_ga[3, 0, :]\nsmoothed_mean_x_em = smoothed_means_em[0, 0, :]\nsmoothed_mean_y_em = smoothed_means_em[3, 0, :]\n\nsmoothed_ci_x_upper_ga = smoothed_mean_x_ga + 1.96*smoothed_std_x_y_ga[:, 0]\nsmoothed_ci_x_lower_ga = smoothed_mean_x_ga - 1.96*smoothed_std_x_y_ga[:, 0]\nsmoothed_ci_y_upper_ga = smoothed_mean_y_ga + 1.96*smoothed_std_x_y_ga[:, 3]\nsmoothed_ci_y_lower_ga = smoothed_mean_y_ga - 1.96*smoothed_std_x_y_ga[:, 3]\nsmoothed_ci_x_upper_em = smoothed_mean_x_em + 1.96*smoothed_std_x_y_em[:, 0]\nsmoothed_ci_x_lower_em = smoothed_mean_x_em - 1.96*smoothed_std_x_y_em[:, 0]\nsmoothed_ci_y_upper_em = smoothed_mean_y_em + 1.96*smoothed_std_x_y_em[:, 3]\nsmoothed_ci_y_lower_em = smoothed_mean_y_em - 1.96*smoothed_std_x_y_em[:, 3]\n\nfig = get_fig_kinematics_vs_time(\n    time=time,\n    measured_x=measured_x, measured_y=measured_y,\n    finite_diff_x=finite_diff_x, finite_diff_y=finite_diff_y,\n    ga_mean_x=smoothed_mean_x_ga, ga_mean_y=smoothed_mean_y_ga,\n    ga_ci_x_upper=smoothed_ci_x_upper_ga,\n    ga_ci_y_upper=smoothed_ci_y_upper_ga,\n    ga_ci_x_lower=smoothed_ci_x_lower_ga,\n    ga_ci_y_lower=smoothed_ci_y_lower_ga,\n    em_mean_x=smoothed_mean_x_em, em_mean_y=smoothed_mean_y_em,\n    em_ci_x_upper=smoothed_ci_x_upper_em,\n    em_ci_y_upper=smoothed_ci_y_upper_em,\n    em_ci_x_lower=smoothed_ci_x_lower_em,\n    em_ci_y_lower=smoothed_ci_y_lower_em,\n    cb_alpha=cb_alpha,\n    color_true=color_true, color_measured=color_measured,\n    color_finite_diff=color_finite_diff,\n    color_ga_pattern=color_ga_pattern,\n    color_em_pattern=color_em_pattern,\n    xlabel=\"Time (sec)\", ylabel=\"Position (pixels)\")\n# fig_filename_pattern = \"../../figures/smoothed_pos.{:s}\"\n# fig.write_image(fig_filename_pattern.format(\"png\"))\n# fig.write_html(fig_filename_pattern.format(\"html\"))\nfig"
      ]
    },
    {
      "cell_type": "markdown",
      "metadata": {},
      "source": [
        "#### Plot true and smoothed velocities (with 95% confidence band)\n\n"
      ]
    },
    {
      "cell_type": "code",
      "execution_count": null,
      "metadata": {
        "collapsed": false
      },
      "outputs": [],
      "source": [
        "measured_x = None\nmeasured_y = None\nfinite_diff_x = np.diff(y[0, :])/dt\nfinite_diff_y = np.diff(y[1, :])/dt\nsmoothed_mean_x_ga = smoothed_means_ga[1, 0, :]\nsmoothed_mean_y_ga = smoothed_means_ga[4, 0, :]\nsmoothed_mean_x_em = smoothed_means_em[1, 0, :]\nsmoothed_mean_y_em = smoothed_means_em[4, 0, :]\n\nsmoothed_ci_x_upper_ga = smoothed_mean_x_ga + 1.96*smoothed_std_x_y_ga[:, 1]\nsmoothed_ci_x_lower_ga = smoothed_mean_x_ga - 1.96*smoothed_std_x_y_ga[:, 1]\nsmoothed_ci_y_upper_ga= smoothed_mean_y_ga + 1.96*smoothed_std_x_y_ga[:, 4]\nsmoothed_ci_y_lower_ga = smoothed_mean_y_ga - 1.96*smoothed_std_x_y_ga[:, 4]\nsmoothed_ci_x_upper_em = smoothed_mean_x_em + 1.96*smoothed_std_x_y_em[:, 1]\nsmoothed_ci_x_lower_em = smoothed_mean_x_em - 1.96*smoothed_std_x_y_em[:, 1]\nsmoothed_ci_y_upper_em= smoothed_mean_y_em + 1.96*smoothed_std_x_y_em[:, 4]\nsmoothed_ci_y_lower_em = smoothed_mean_y_em - 1.96*smoothed_std_x_y_em[:, 4]\n\nfig = get_fig_kinematics_vs_time(\n    time=time,\n    measured_x=measured_x, measured_y=measured_y,\n    finite_diff_x=finite_diff_x, finite_diff_y=finite_diff_y,\n    ga_mean_x=smoothed_mean_x_ga, ga_mean_y=smoothed_mean_y_ga,\n    ga_ci_x_upper=smoothed_ci_x_upper_ga,\n    ga_ci_y_upper=smoothed_ci_y_upper_ga,\n    ga_ci_x_lower=smoothed_ci_x_lower_ga,\n    ga_ci_y_lower=smoothed_ci_y_lower_ga,\n    em_mean_x=smoothed_mean_x_em, em_mean_y=smoothed_mean_y_em,\n    em_ci_x_upper=smoothed_ci_x_upper_em,\n    em_ci_y_upper=smoothed_ci_y_upper_em,\n    em_ci_x_lower=smoothed_ci_x_lower_em,\n    em_ci_y_lower=smoothed_ci_y_lower_em,\n    cb_alpha=cb_alpha,\n    color_true=color_true, color_measured=color_measured,\n    color_finite_diff=color_finite_diff,\n    color_ga_pattern=color_ga_pattern,\n    color_em_pattern=color_em_pattern,\n    xlabel=\"Time (sec)\", ylabel=\"Velocity (pixels/sec)\")\n# fig_filename_pattern = \"../../figures/smoothed_vel.{:s}\"\n# fig.write_image(fig_filename_pattern.format(\"png\"))\n# fig.write_html(fig_filename_pattern.format(\"html\"))\nfig"
      ]
    },
    {
      "cell_type": "markdown",
      "metadata": {},
      "source": [
        "#### Plot true and smoothed accelerations (with 95% confidence band)\n\n"
      ]
    },
    {
      "cell_type": "code",
      "execution_count": null,
      "metadata": {
        "collapsed": false
      },
      "outputs": [],
      "source": [
        "measured_x = None\nmeasured_y = None\nfinite_diff_x = np.diff(np.diff(y[0, :]))/dt**2\nfinite_diff_y = np.diff(np.diff(y[1, :]))/dt**2\nsmoothed_mean_x_ga = smoothed_means_ga[2, 0, :]\nsmoothed_mean_y_ga = smoothed_means_ga[5, 0, :]\nsmoothed_mean_x_em = smoothed_means_em[2, 0, :]\nsmoothed_mean_y_em = smoothed_means_em[5, 0, :]\n\nsmoothed_ci_x_upper_ga = smoothed_mean_x_ga + 1.96*smoothed_std_x_y_ga[:, 2]\nsmoothed_ci_x_lower_ga = smoothed_mean_x_ga - 1.96*smoothed_std_x_y_ga[:, 2]\nsmoothed_ci_y_upper_ga = smoothed_mean_y_ga + 1.96*smoothed_std_x_y_ga[:, 5]\nsmoothed_ci_y_lower_ga = smoothed_mean_y_ga - 1.96*smoothed_std_x_y_ga[:, 5]\nsmoothed_ci_x_upper_em = smoothed_mean_x_em + 1.96*smoothed_std_x_y_em[:, 2]\nsmoothed_ci_x_lower_em = smoothed_mean_x_em - 1.96*smoothed_std_x_y_em[:, 2]\nsmoothed_ci_y_upper_em = smoothed_mean_y_em + 1.96*smoothed_std_x_y_em[:, 5]\nsmoothed_ci_y_lower_em = smoothed_mean_y_em - 1.96*smoothed_std_x_y_em[:, 5]\n\nfig = get_fig_kinematics_vs_time(\n    time=time,\n    measured_x=measured_x, measured_y=measured_y,\n    finite_diff_x=finite_diff_x, finite_diff_y=finite_diff_y,\n    ga_mean_x=smoothed_mean_x_ga, ga_mean_y=smoothed_mean_y_ga,\n    ga_ci_x_upper=smoothed_ci_x_upper_ga,\n    ga_ci_y_upper=smoothed_ci_y_upper_ga,\n    ga_ci_x_lower=smoothed_ci_x_lower_ga,\n    ga_ci_y_lower=smoothed_ci_y_lower_ga,\n    em_mean_x=smoothed_mean_x_em, em_mean_y=smoothed_mean_y_em,\n    em_ci_x_upper=smoothed_ci_x_upper_em,\n    em_ci_y_upper=smoothed_ci_y_upper_em,\n    em_ci_x_lower=smoothed_ci_x_lower_em,\n    em_ci_y_lower=smoothed_ci_y_lower_em,\n    cb_alpha=cb_alpha,\n    color_true=color_true, color_measured=color_measured,\n    color_finite_diff=color_finite_diff,\n    color_ga_pattern=color_ga_pattern,\n    color_em_pattern=color_em_pattern,\n    xlabel=\"Time (sec)\", ylabel=\"Acceleration (pixels/sec^2)\")\n# fig_filename_pattern = \"../../figures/smoothed_acc.{:s}\"\n# fig.write_image(fig_filename_pattern.format(\"png\"))\n# fig.write_html(fig_filename_pattern.format(\"html\"))\nfig"
      ]
    }
  ],
  "metadata": {
    "kernelspec": {
      "display_name": "Python 3",
      "language": "python",
      "name": "python3"
    },
    "language_info": {
      "codemirror_mode": {
        "name": "ipython",
        "version": 3
      },
      "file_extension": ".py",
      "mimetype": "text/x-python",
      "name": "python",
      "nbconvert_exporter": "python",
      "pygments_lexer": "ipython3",
      "version": "3.9.18"
    }
  },
  "nbformat": 4,
  "nbformat_minor": 0
}