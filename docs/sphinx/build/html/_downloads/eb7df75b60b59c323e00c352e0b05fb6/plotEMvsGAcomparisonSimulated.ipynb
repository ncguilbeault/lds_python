{
  "cells": [
    {
      "cell_type": "code",
      "execution_count": null,
      "metadata": {
        "collapsed": false
      },
      "outputs": [],
      "source": [
        "%matplotlib inline"
      ]
    },
    {
      "cell_type": "markdown",
      "metadata": {},
      "source": [
        "\n# Comparison between EM and gradient ascent for tracking a simulated mouse\n\nThe code below compares the expectation maximization (EM) and gradient ascent\nalgorithm for tracking a simulated mouse.\n"
      ]
    },
    {
      "cell_type": "code",
      "execution_count": null,
      "metadata": {
        "collapsed": false
      },
      "outputs": [],
      "source": [
        "import numpy as np\nimport torch\nimport plotly.graph_objs as go\n\nimport ssm.tracking.utils\nimport ssm.simulation\nimport ssm.learning"
      ]
    },
    {
      "cell_type": "markdown",
      "metadata": {},
      "source": [
        "## Simulation\nWe will simulate a linear dynamical system for tracking.\nThe parameters of this model are highlighted in red.\n\n\\begin{align}\\begin{equation}\n       \\begin{alignedat}{4}\n           & x_n&&=A x_{n-1}+w_n&&\\quad with\\quad&&w_n\\sim\\mathcal{N}(0,\\textcolor{red}{\\sigma_a^2}Q_e),&&\\quad x_n\\in\\mathbb{R}^6&&\\label{eq:ssm}\\\\\n           & y_n&&=C x_n+v_n&&\\quad with\\quad&&v_n\\sim\\mathcal{N}(0,R),&&\\quad y_n\\in\\mathbb{R}^2,&&\\quad R=\\left[\\begin{array}{c,c}\n                                                                                                                      \\textcolor{red}{\\sigma_x^2}&0\\\\\n                                                                                                                      0&\\textcolor{red}{\\sigma_y^2}\n                                                                                                                   \\end{array}\\right]\\\\\n           & x_0&&\\in\\mathcal{N}(\\textcolor{red}{m_0},\\textcolor{red}{V_0})&& &&\n       \\end{alignedat}\n   \\end{equation}\\end{align}\n\n\n"
      ]
    },
    {
      "cell_type": "markdown",
      "metadata": {},
      "source": [
        "### Define simulation parameters\n\n"
      ]
    },
    {
      "cell_type": "code",
      "execution_count": null,
      "metadata": {
        "collapsed": false
      },
      "outputs": [],
      "source": [
        "pos_x0 = 0.0\npos_y0 = 0.0\nvel_x0 = 0.0\nvel_y0 = 0.0\nacc_x0 = 0.0\nacc_y0 = 0.0\ndt = 1e-1\nnum_pos = 500\nsigma_a_true = 0.1\nsigma_x = 5e-0\nsigma_y = 5e-0\nsqrt_diag_V0_value = 1e-3\n\nB, _, Qe, Z, R = ssm.tracking.utils.getLDSmatricesForKinematics_np(\n    dt=dt, sigma_a=np.nan, pos_x_R_std=sigma_x, pos_y_R_std=sigma_y)\nQ_true = Qe*sigma_a_true**2\nsqrt_diag_R = np.array([sigma_x, sigma_y])\nm0 = np.array([pos_x0, vel_x0, acc_x0, pos_y0, vel_y0, acc_y0],\n              dtype=np.double)\nsqrt_diag_V0 = np.ones(6)*sqrt_diag_V0_value\nV0 = np.diag(sqrt_diag_V0**2)"
      ]
    },
    {
      "cell_type": "markdown",
      "metadata": {},
      "source": [
        "### Perform simulation\nCode for [ssm.simulation.simulateLDS](https://joacorapela.github.io/ssm/_modules/ssm/simulation.html#simulateLDS)\n\n"
      ]
    },
    {
      "cell_type": "code",
      "execution_count": null,
      "metadata": {
        "collapsed": false
      },
      "outputs": [],
      "source": [
        "x0, x, y = ssm.simulation.simulateLDS(T=num_pos, B=B, Q=Q_true, Z=Z, R=R,\n                                             m0=m0, V0=V0)"
      ]
    },
    {
      "cell_type": "markdown",
      "metadata": {},
      "source": [
        "### Plot simulated state and measurement positions\n\n"
      ]
    },
    {
      "cell_type": "code",
      "execution_count": null,
      "metadata": {
        "collapsed": false
      },
      "outputs": [],
      "source": [
        "fig = go.Figure()\ntrace_x = go.Scatter(x=x[0, :], y=x[3, :], mode=\"lines+markers\",\n                     showlegend=True, name=\"pos. state mean\")\ntrace_y = go.Scatter(x=y[0, :], y=y[1, :], mode=\"lines+markers\",\n                     showlegend=True, name=\"measurement\", opacity=0.3)\ntrace_start = go.Scatter(x=[x0[0]], y=[x0[3]], mode=\"markers\",\n                         text=\"initial state\", marker={\"size\": 7},\n                         showlegend=False)\nfig.add_trace(trace_x)\nfig.add_trace(trace_y)\nfig.add_trace(trace_start)\nfig.update_layout(xaxis_title=\"horizontal direction\",\n                  yaxis_title=\"vertical direction\")\nfig"
      ]
    },
    {
      "cell_type": "markdown",
      "metadata": {},
      "source": [
        "## Estimation of the $\\sigma_a^2$ parameter only\n\n"
      ]
    },
    {
      "cell_type": "code",
      "execution_count": null,
      "metadata": {
        "collapsed": false
      },
      "outputs": [],
      "source": [
        "sigma_a0 = 0.25\nga_vars_to_estimate = {\"sigma_a\": True,\n                       \"pos_x_R_std\": False, \"pos_y_R_std\": False,\n                       \"m0\": False, \"sqrt_diag_V0\": False}\nem_vars_to_estimate = {\"sigma_a\": True, \"R\": False,\n                       \"m0\": False, \"V0\": False}\nem_max_iter = 200\nlbfgs_max_iter = 2\nlbfgs_n_epochs = 100\nlbfgs_tolerance_grad = 1e-9\nlbfgs_tolerance_change = 1e-7"
      ]
    },
    {
      "cell_type": "markdown",
      "metadata": {},
      "source": [
        "### Grid search\n\n"
      ]
    },
    {
      "cell_type": "code",
      "execution_count": null,
      "metadata": {
        "collapsed": false
      },
      "outputs": [],
      "source": [
        "sigma_a_min = 0.001\nsigma_a_max = 2.0\nsigma_a_step = 0.005\nsqrt_noise_intensities = np.arange(sigma_a_min, sigma_a_max, sigma_a_step)\ngs_log_likes = np.empty(len(sqrt_noise_intensities))\nfor i, sigma_a in enumerate(sqrt_noise_intensities):\n    Q_gs = Qe * sigma_a**2\n    filterRes = ssm.inference.filterLDS_SS_withMissingValues_np(\n        y=y, B=B, Q=Q_gs, m0=m0, V0=V0, Z=Z, R=R)\n    gs_log_likes[i] = filterRes[\"logLike\"]\n    print(f\"log likelihood for sigma_a={sigma_a:.04f}: {gs_log_likes[i]}\")\nargmax = np.argmax(gs_log_likes)\ngs_max_ll = gs_log_likes[argmax]\ngs_max_sigma_a = sqrt_noise_intensities[argmax]\nprint(f\"max log likelihood: {gs_max_ll}, \"\n      f\"max sigma_a: {gs_max_sigma_a}\")"
      ]
    },
    {
      "cell_type": "markdown",
      "metadata": {},
      "source": [
        "### Gradient acent\nCode for [ssm.learning.torch_lbfgs_optimize_SS_tracking_diagV0](https://joacorapela.github.io/ssm/_modules/ssm/learning.html#torch_lbfgs_optimize_SS_tracking_diagV0)\n\n"
      ]
    },
    {
      "cell_type": "code",
      "execution_count": null,
      "metadata": {
        "collapsed": false
      },
      "outputs": [],
      "source": [
        "m0_torch = torch.from_numpy(m0)\nsqrt_diag_V0_torch = torch.DoubleTensor([sqrt_diag_V0_value\n                                         for i in range(len(m0))])\ny_torch = torch.from_numpy(y.astype(np.double))\nB_torch = torch.from_numpy(B.astype(np.double))\nQe_torch = torch.from_numpy(Qe.astype(np.double))\nZ_torch = torch.from_numpy(Z.astype(np.double))\noptim_res_ga = ssm.learning.torch_lbfgs_optimize_SS_tracking_diagV0(\n    y=y_torch, B=B_torch, sigma_a0=sigma_a0,\n    Qe=Qe_torch, Z=Z_torch, pos_x_R_std0=sigma_x, pos_y_R_std0=sigma_y, m0_0=m0_torch,\n    sqrt_diag_V0_0=sqrt_diag_V0_torch, max_iter=lbfgs_max_iter,\n    n_epochs=lbfgs_n_epochs,\n    vars_to_estimate=ga_vars_to_estimate, tolerance_grad=lbfgs_tolerance_grad,\n    tolerance_change=lbfgs_tolerance_change)"
      ]
    },
    {
      "cell_type": "markdown",
      "metadata": {},
      "source": [
        "### EM\nCode for [ssm.learning.em_SS_tracking](https://joacorapela.github.io/ssm/_modules/ssm/learning.html#em_SS_tracking)\n\n"
      ]
    },
    {
      "cell_type": "code",
      "execution_count": null,
      "metadata": {
        "collapsed": false
      },
      "outputs": [],
      "source": [
        "Qe_reg_param = 1e-5\nQe_regularized = Qe + Qe_reg_param*np.eye(Qe.shape[0])\noptim_res_em = ssm.learning.em_SS_tracking(\n    y=y, B=B, sigma_a0=sigma_a0,\n    Qe=Qe_regularized, Z=Z, R_0=R, m0_0=m0, V0_0=V0,\n    vars_to_estimate=em_vars_to_estimate, max_iter=em_max_iter)"
      ]
    },
    {
      "cell_type": "markdown",
      "metadata": {},
      "source": [
        "### Plots\n\n"
      ]
    },
    {
      "cell_type": "markdown",
      "metadata": {},
      "source": [
        "#### Convergence\n\n"
      ]
    },
    {
      "cell_type": "code",
      "execution_count": null,
      "metadata": {
        "collapsed": false
      },
      "outputs": [],
      "source": [
        "fig = go.Figure()\ntrace = go.Scatter(x=optim_res_ga[\"elapsed_time\"], y=optim_res_ga[\"log_like\"],\n                  name=\"Gradient ascent\", mode=\"lines+markers\")\nfig.add_trace(trace)\ntrace = go.Scatter(x=optim_res_em[\"elapsed_time\"], y=optim_res_em[\"log_like\"],\n                   name=\"EM\", mode=\"lines+markers\")\nfig.add_trace(trace)\nfig.update_layout(xaxis_title=\"Elapsed Time (sec)\",\n                  yaxis_title=\"Log Likelihood\")\nfig"
      ]
    },
    {
      "cell_type": "markdown",
      "metadata": {},
      "source": [
        "#### $\\sigma_a$ estimates\n\n"
      ]
    },
    {
      "cell_type": "code",
      "execution_count": null,
      "metadata": {
        "collapsed": false
      },
      "outputs": [],
      "source": [
        "fig = go.Figure()\ntrace = go.Bar(x=[\"Grid Search\", \"Gradient Ascent\", \"EM\"],\n               y=[gs_max_sigma_a**2,\n                  optim_res_ga[\"estimates\"][\"sigma_a\"].item()**2,\n                  optim_res_em[\"estimates\"][\"sigma_a\"]**2])\nfig.add_trace(trace)\nfig.add_hline(y=sigma_a_true**2)\nfig.update_layout(xaxis_title=\"Estimation Method\",\n                  yaxis_title=r\"$\\sigma_a$\")\nfig"
      ]
    },
    {
      "cell_type": "markdown",
      "metadata": {},
      "source": [
        "## Estimation of all parameters\n\n"
      ]
    },
    {
      "cell_type": "code",
      "execution_count": null,
      "metadata": {
        "collapsed": false
      },
      "outputs": [],
      "source": [
        "pos_x0_0 = 0.1\npos_y0_0 = -0.1\nvel_x0_0 = 0.01\nvel_y0_0 = -0.01\nacc_x0_0 = 0.001\nacc_y0_0 = -0.001\nsqrt_diag_V0_value0 = 1e-2\nsigma_a0 = 0.25\nsigma_x_0 = 5e-2\nsigma_y_0 = 5e-2\nga_vars_to_estimate = {\"sigma_a\": True,\n                       \"pos_x_R_std\": True, \"pos_y_R_std\": True, \"m0\": True,\n                       \"sqrt_diag_V0\": True}\nem_vars_to_estimate = {\"sigma_a\": True, \"R\": True, \"m0\": True,\n                       \"V0\": True}\nem_max_iter = 400\nlbfgs_max_iter = 2\nlbfgs_n_epochs = 200\nlbfgs_tolerance_grad = 1e-9\nlbfgs_tolerance_change = 1e-7\n\nm0_0 = np.array([pos_x0_0, vel_x0_0, acc_x0_0, pos_y0_0, vel_y0_0, acc_y0_0])\nsqrt_diag_V0_0 = np.array([sqrt_diag_V0_value0 for i in range(len(m0_0))])\nsqrt_diag_R_0 = np.array([sigma_x_0, sigma_y_0])"
      ]
    },
    {
      "cell_type": "markdown",
      "metadata": {},
      "source": [
        "### Gradient acent\nCode for [ssm.learning.torch_lbfgs_optimize_SS_tracking_diagV0](https://joacorapela.github.io/ssm/_modules/ssm/learning.html#torch_lbfgs_optimize_SS_tracking_diagV0)\n\n"
      ]
    },
    {
      "cell_type": "code",
      "execution_count": null,
      "metadata": {
        "collapsed": false
      },
      "outputs": [],
      "source": [
        "m0_0_torch = torch.from_numpy(m0_0)\nsqrt_diag_V0_0_torch = torch.from_numpy(sqrt_diag_V0_0)\nsqrt_diag_R_0_torch = torch.from_numpy(sqrt_diag_R_0)\n\ny_torch = torch.from_numpy(y.astype(np.double))\nB_torch = torch.from_numpy(B.astype(np.double))\nQe_torch = torch.from_numpy(Qe.astype(np.double))\nZ_torch = torch.from_numpy(Z.astype(np.double))\noptim_res_ga = ssm.learning.torch_lbfgs_optimize_SS_tracking_diagV0(\n    y=y_torch, B=B_torch, sigma_a0=sigma_a0,\n    Qe=Qe_torch, Z=Z_torch, pos_x_R_std0=sqrt_diag_R_0[0],\n    pos_y_R_std0=sqrt_diag_R_0[1], m0_0=m0_0_torch,\n    sqrt_diag_V0_0=sqrt_diag_V0_0_torch, max_iter=lbfgs_max_iter,\n    n_epochs=lbfgs_n_epochs,\n    vars_to_estimate=ga_vars_to_estimate, tolerance_grad=lbfgs_tolerance_grad,\n    tolerance_change=lbfgs_tolerance_change)"
      ]
    },
    {
      "cell_type": "markdown",
      "metadata": {},
      "source": [
        "### EM\nCode for [ssm.learning.em_SS_tracking](https://joacorapela.github.io/ssm/_modules/ssm/learning.html#em_SS_tracking)\n\n"
      ]
    },
    {
      "cell_type": "code",
      "execution_count": null,
      "metadata": {
        "collapsed": false
      },
      "outputs": [],
      "source": [
        "V0_0 = np.diag(sqrt_diag_V0_0**2)\nR0 = np.diag(sqrt_diag_R_0)\nQe_reg_param = 1e-5\nQe_regularized = Qe + Qe_reg_param*np.eye(Qe.shape[0])\noptim_res_em = ssm.learning.em_SS_tracking(\n    y=y, B=B, sigma_a0=sigma_a0,\n    Qe=Qe_regularized, Z=Z, R_0=R0, m0_0=m0_0, V0_0=V0_0,\n    vars_to_estimate=em_vars_to_estimate, max_iter=em_max_iter)"
      ]
    },
    {
      "cell_type": "markdown",
      "metadata": {},
      "source": [
        "### Plots\n\n"
      ]
    },
    {
      "cell_type": "markdown",
      "metadata": {},
      "source": [
        "#### Convergence\n\n"
      ]
    },
    {
      "cell_type": "code",
      "execution_count": null,
      "metadata": {
        "collapsed": false
      },
      "outputs": [],
      "source": [
        "fig = go.Figure()\ntrace = go.Scatter(x=optim_res_ga[\"elapsed_time\"], y=optim_res_ga[\"log_like\"],\n                  name=\"Gradient ascent\", mode=\"lines+markers\")\nfig.add_trace(trace)\ntrace = go.Scatter(x=optim_res_em[\"elapsed_time\"], y=optim_res_em[\"log_like\"],\n                   name=\"EM\", mode=\"lines+markers\")\nfig.add_trace(trace)\nfig.update_layout(xaxis_title=\"Elapsed Time (sec)\",\n                  yaxis_title=\"Log Likelihood\")\nfig"
      ]
    },
    {
      "cell_type": "markdown",
      "metadata": {},
      "source": [
        "#### $\\sigma_a^2$ estimates\n\n"
      ]
    },
    {
      "cell_type": "code",
      "execution_count": null,
      "metadata": {
        "collapsed": false
      },
      "outputs": [],
      "source": [
        "fig = go.Figure()\ntrace = go.Bar(x=[\"Gradient Ascent\", \"EM\"],\n               y=[optim_res_ga[\"estimates\"][\"sigma_a\"].item()**2,\n                  optim_res_em[\"estimates\"][\"sigma_a\"]**2])\nfig.add_trace(trace)\nfig.add_hline(y=sigma_a_true**2)\nfig.update_layout(xaxis_title=\"Estimation Method\",\n                  yaxis_title=r'$\\sigma_a^2$')\nfig"
      ]
    },
    {
      "cell_type": "markdown",
      "metadata": {},
      "source": [
        "#### $\\sigma_x^2$ estimates\n\n"
      ]
    },
    {
      "cell_type": "code",
      "execution_count": null,
      "metadata": {
        "collapsed": false
      },
      "outputs": [],
      "source": [
        "fig = go.Figure()\ntrace = go.Bar(x=[\"Gradient Ascent\", \"EM\"],\n               y=[optim_res_ga[\"estimates\"][\"pos_x_R_std\"].item()**2,\n                  optim_res_em[\"estimates\"][\"R\"][0, 0]])\nfig.add_trace(trace)\nfig.add_hline(y=sqrt_diag_R[0]**2)\nfig.update_layout(xaxis_title=\"Estimation Method\",\n                  yaxis_title=r'$\\sigma_x$')\nfig"
      ]
    },
    {
      "cell_type": "markdown",
      "metadata": {},
      "source": [
        "#### $m_0[0]$ estimates\n\n"
      ]
    },
    {
      "cell_type": "code",
      "execution_count": null,
      "metadata": {
        "collapsed": false
      },
      "outputs": [],
      "source": [
        "fig = go.Figure()\ntrace = go.Bar(x=[\"Gradient Ascent\", \"EM\"],\n               y=[optim_res_ga[\"estimates\"][\"m0\"][0].item(),\n                  optim_res_em[\"estimates\"][\"m0\"][0]])\nfig.add_trace(trace)\nfig.add_hline(y=m0[0])\nfig.update_layout(xaxis_title=\"Estimation Method\",\n                  yaxis_title=r'$m_0[0]$')\nfig"
      ]
    },
    {
      "cell_type": "markdown",
      "metadata": {},
      "source": [
        "#### $V_0[0,0]$ estimates\n\n"
      ]
    },
    {
      "cell_type": "code",
      "execution_count": null,
      "metadata": {
        "collapsed": false
      },
      "outputs": [],
      "source": [
        "fig = go.Figure()\ntrace = go.Bar(x=[\"Gradient Ascent\", \"EM\"],\n               y=[optim_res_ga[\"estimates\"][\"sqrt_diag_V0\"][0].item()**2,\n                  optim_res_em[\"estimates\"][\"V0\"][0, 0]])\nfig.add_trace(trace)\nfig.add_hline(y=sqrt_diag_V0[0]**2)\nfig.update_layout(xaxis_title=\"Estimation Method\",\n                  yaxis_title=r'$V_0[0, 0]$')\nfig"
      ]
    }
  ],
  "metadata": {
    "kernelspec": {
      "display_name": "Python 3",
      "language": "python",
      "name": "python3"
    },
    "language_info": {
      "codemirror_mode": {
        "name": "ipython",
        "version": 3
      },
      "file_extension": ".py",
      "mimetype": "text/x-python",
      "name": "python",
      "nbconvert_exporter": "python",
      "pygments_lexer": "ipython3",
      "version": "3.9.18"
    }
  },
  "nbformat": 4,
  "nbformat_minor": 0
}